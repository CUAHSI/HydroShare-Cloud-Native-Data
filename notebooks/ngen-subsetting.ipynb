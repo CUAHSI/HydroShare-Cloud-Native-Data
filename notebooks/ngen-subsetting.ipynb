{
 "cells": [
  {
   "cell_type": "markdown",
   "id": "58cd9170-4653-4a46-b1ba-973ebb63a05d",
   "metadata": {},
   "source": [
    "# Executing an NGEN Subsetting Workflow"
   ]
  },
  {
   "cell_type": "code",
   "execution_count": null,
   "id": "7bd60270-55a7-442f-aee4-113cff865bc2",
   "metadata": {},
   "outputs": [],
   "source": [
    "from hera.workflows import Steps, Step, Workflow, WorkflowsService\n",
    "from hera.workflows.models import TemplateRef"
   ]
  },
  {
   "cell_type": "code",
   "execution_count": null,
   "id": "494a4cd3-2b8f-42a1-9de4-9432bc2394aa",
   "metadata": {},
   "outputs": [],
   "source": [
    "# token is obtained from https://workflows.argo.cuahsi.io/userinfo\n",
    "argo_token = \"v2:eyJhbGciOiJSU0EtT0FFUC0yNTYiLCJlbmMiOiJBMjU2R0NNIiwiemlwIjoiREVGIn0.Jmwv5MWyI9zAt3zM5teLzoXAu3VbTicO9I-HtPdI88nRp_ETGXkFQqC5aM_msNYlJSF5ncrugC5RexrhvxPIq5tZeWHDG9dzif6TDn1Z6G8vuicIcbwKCbhtveFWoJHUNO4rz714Rt5decdPeIwxBTJ2bKoPnK8HZtrit2fDseJOrD9EYBUSpjMZt-aiSGD7SuHye08kNggmHVEzfNOx-ehXI2doq62_bqZNNOOLR4H_p48SV2DVaQHU28yH5dVKBPoS9gQcxM0UTeadyjNm4M_I4s4-g-8tVDhzadUih6rtFw33smvK_gjon30N4mtUP2rNrhLjGy701bbj_RnFRA.7RZ66x0RfHrFzmBA.0ntF913jQdh3Urda5EOMqMI2Gzn59ttOcmfmX3dfvkLzSjktGK6UTcQE7d3lLRPejzeOrfe0LfFVjVcJDFvkQoITZIHhBtc.Q81RRcNnwtUKQ0y5hknjiw\"\n",
    "argo_host  = \"https://workflows.argo.cuahsi.io\"\n",
    "argo_ns    = \"workflows\""
   ]
  },
  {
   "cell_type": "code",
   "execution_count": null,
   "id": "16256102-d10f-48c7-8f58-789dc2ab8211",
   "metadata": {},
   "outputs": [],
   "source": [
    "ws=WorkflowsService(host=argo_host,\n",
    "                   token=argo_token,\n",
    "                   namespace=argo_ns)"
   ]
  },
  {
   "cell_type": "markdown",
   "id": "436fccd9-3dbf-469b-a2d3-e598e6653a8a",
   "metadata": {},
   "source": [
    "Test the connection"
   ]
  },
  {
   "cell_type": "code",
   "execution_count": null,
   "id": "344120e4-f7fc-4658-ae10-da0330845420",
   "metadata": {},
   "outputs": [],
   "source": [
    "ws.get_info()"
   ]
  },
  {
   "cell_type": "markdown",
   "id": "cbb751c6-9288-493e-9a1f-150761320278",
   "metadata": {},
   "source": [
    "Define a function to print job status"
   ]
  },
  {
   "cell_type": "code",
   "execution_count": null,
   "id": "6f2a1711-3f6b-4c73-9667-adc630819349",
   "metadata": {},
   "outputs": [],
   "source": [
    "import time\n",
    "import datetime \n",
    "\n",
    "def display_status(workflow):\n",
    "    job_name = workflow.name\n",
    "\n",
    "    # initial values\n",
    "    finished_at = None\n",
    "    start_time = None\n",
    "    \n",
    "    print(f'Job: {job_name}') \n",
    "    while finished_at is None:\n",
    "        # query the job status\n",
    "        status = workflow.workflows_service.get_workflow(job_name).status\n",
    "\n",
    "        # set start time\n",
    "        if start_time is None:\n",
    "            start_time = status.started_at.__root__\n",
    "\n",
    "        # get current time\n",
    "        now = datetime.datetime.now(datetime.timezone.utc)\n",
    "\n",
    "        # display progress\n",
    "        print(f'Progress: {status.progress} ' +\n",
    "              f'[{status.phase}]' + \n",
    "              f' - Elapsed time={now-start_time}', end='\\r')\n",
    "\n",
    "        # update finished time\n",
    "        finished_at = status.finished_at\n",
    "    \n",
    "        time.sleep(1)\n",
    "        \n",
    "    print('')\n",
    "    print(f'Finished at: {str(finished_at.__root__)}')"
   ]
  },
  {
   "cell_type": "markdown",
   "id": "a732ffb3-dafc-48b9-8f9a-180c0e8d7bcf",
   "metadata": {},
   "source": [
    "Connect to the Cloud Data project using Gcloud"
   ]
  },
  {
   "cell_type": "code",
   "execution_count": null,
   "id": "9d7b20e4-bebf-431c-bc14-f4dd70ad4866",
   "metadata": {},
   "outputs": [],
   "source": [
    "# to display the current project:\n",
    "# gcloud config get project\n",
    "\n",
    "!gcloud config set project thredds\n",
    "!gcloud config get project"
   ]
  },
  {
   "cell_type": "markdown",
   "id": "dda4ad9b-029e-462d-9271-f534e885b2f5",
   "metadata": {},
   "source": [
    "List storage buckets"
   ]
  },
  {
   "cell_type": "code",
   "execution_count": null,
   "id": "9c797854-3cd0-4eb3-8471-6b3a27277099",
   "metadata": {},
   "outputs": [],
   "source": [
    "!gcloud storage ls"
   ]
  },
  {
   "cell_type": "markdown",
   "id": "7371fd3d-f38a-46be-b489-ed8b4efeb229",
   "metadata": {},
   "source": [
    "List the data stored in the ngen directory of `subsetter-outputs`"
   ]
  },
  {
   "cell_type": "code",
   "execution_count": null,
   "id": "0abe8379-e7e0-446d-b018-581bd7bb07e7",
   "metadata": {},
   "outputs": [],
   "source": [
    "!gcloud storage ls gs://subsetter-outputs/ngen"
   ]
  },
  {
   "cell_type": "markdown",
   "id": "178667aa-d461-4622-b21f-c4b68696a6a4",
   "metadata": {},
   "source": [
    "Create a unique identifier for our job. This will be used to create a directory for our outputs in the cloud."
   ]
  },
  {
   "cell_type": "code",
   "execution_count": null,
   "id": "b55744f2-9849-459d-aee7-ecac0cb146d8",
   "metadata": {},
   "outputs": [],
   "source": [
    "import uuid\n",
    "job_id = uuid.uuid4().hex"
   ]
  },
  {
   "cell_type": "markdown",
   "id": "7bc7964c-ef1a-4522-8f3d-36ed2359c662",
   "metadata": {},
   "source": [
    "## Prepare the Argo Workflow"
   ]
  },
  {
   "cell_type": "markdown",
   "id": "e2028021-73f3-4654-bb40-22b6703fd80a",
   "metadata": {},
   "source": [
    "List workflow templates that exist in our cluster."
   ]
  },
  {
   "cell_type": "code",
   "execution_count": null,
   "id": "f54526f2-94d2-49bc-a1b2-3894fc475eff",
   "metadata": {},
   "outputs": [],
   "source": [
    "for wt in ws.list_workflow_templates().items:\n",
    "    print (wt.metadata.name)"
   ]
  },
  {
   "cell_type": "markdown",
   "id": "ecc42706-f209-4817-bcc1-eb12ab5bba78",
   "metadata": {},
   "source": [
    "Define workflow inputs."
   ]
  },
  {
   "cell_type": "code",
   "execution_count": null,
   "id": "b2eade01-0747-40eb-b6bf-2a249f3f9045",
   "metadata": {},
   "outputs": [],
   "source": [
    "wb_id = 'wb-2917533'\n",
    "vpu_id = '16'\n",
    "hydrofabric_url = 's3://nextgen-hydrofabric/pre-release/'\n",
    "output_bucket = 'subsetter-outputs'\n",
    "output_path = f'ngen/{job_id}'"
   ]
  },
  {
   "cell_type": "markdown",
   "id": "8b7a95e5-29c7-4448-ac05-cd2194e1646c",
   "metadata": {},
   "source": [
    "Create a workflow that combines Parflow Subsetting and Metadata Extraction."
   ]
  },
  {
   "cell_type": "code",
   "execution_count": null,
   "id": "05dcd153-749b-4b6c-a81d-fffcbec74743",
   "metadata": {},
   "outputs": [],
   "source": [
    "with Workflow(\n",
    "    generate_name=\"ngen-subsetting-job-\",\n",
    "    entrypoint=\"tasks\",\n",
    "    workflows_service=ws,\n",
    "    namespace='workflows',\n",
    ") as w:\n",
    "    ngen_subset_ref = TemplateRef(\n",
    "        name=\"ngen-subset-v1\",\n",
    "        template=\"ngen-subset-v1\",\n",
    "    )\n",
    "    metadata_extract_ref = TemplateRef(\n",
    "        name=\"metadata-extractor\",\n",
    "        template=\"metadata-extractor\",\n",
    "    )\n",
    "    with Steps(name=\"tasks\") as s:\n",
    "        Step(\n",
    "            name='call-ngen-subset',\n",
    "            template_ref=ngen_subset_ref,\n",
    "\n",
    "            # I'm not sure why input-bucket, input-path, output-bucket, and label need to be\n",
    "            # defined here. They have default values in the template, however it they are \n",
    "            # omitted we get an error that they were not provided.\n",
    "            arguments={'wb-id': wb_id,\n",
    "                       'vpu-id': vpu_id,\n",
    "                       'hydrofabric-url': hydrofabric_url,\n",
    "                       'output-bucket': output_bucket,\n",
    "                       'output-basepath': 'ngen',\n",
    "                       'job-id': job_id,\n",
    "                       },\n",
    "\n",
    "            )\n",
    "        Step(\n",
    "            name='call-metadata-extract',\n",
    "            template_ref=metadata_extract_ref,\n",
    "            arguments={'bucket': output_bucket,\n",
    "                       'path': output_path,\n",
    "                       },\n",
    "            )"
   ]
  },
  {
   "cell_type": "markdown",
   "id": "c72f8624-f65d-4df0-ae50-ec63bd14762f",
   "metadata": {},
   "source": [
    "Display the YAML that was created."
   ]
  },
  {
   "cell_type": "code",
   "execution_count": null,
   "id": "931fcbc9-8a46-49aa-af41-e162ae715ca4",
   "metadata": {},
   "outputs": [],
   "source": [
    "print(w.to_yaml())"
   ]
  },
  {
   "cell_type": "markdown",
   "id": "f8d84a35-418d-4122-b486-f1800291fdfe",
   "metadata": {},
   "source": [
    "Submit the job"
   ]
  },
  {
   "cell_type": "code",
   "execution_count": null,
   "id": "59d0afaa-f8ed-4f73-94f2-d5e0aa58b511",
   "metadata": {},
   "outputs": [],
   "source": [
    "_ = w.create()"
   ]
  },
  {
   "cell_type": "markdown",
   "id": "fc88daf1-a18b-4343-a328-86b9f78380d1",
   "metadata": {},
   "source": [
    "Display the job status"
   ]
  },
  {
   "cell_type": "code",
   "execution_count": null,
   "id": "2216a5d5-a936-4a47-91f3-b7339710f895",
   "metadata": {},
   "outputs": [],
   "source": [
    "display_status(w)"
   ]
  },
  {
   "attachments": {
    "0cdfd082-b300-4aaa-a6ed-ca2a37968584.png": {
     "image/png": "[encoded data removed]"
    }
   },
   "cell_type": "markdown",
   "id": "5f941633-6f7e-46ed-90d1-61695d254669",
   "metadata": {},
   "source": [
    "![Screenshot 2023-07-20 at 4.04.15 PM.png](attachment:0cdfd082-b300-4aaa-a6ed-ca2a37968584.png)"
   ]
  },
  {
   "cell_type": "markdown",
   "id": "4eefe7ad-d5b4-408a-859f-c1b556ee3624",
   "metadata": {},
   "source": [
    "## Download the Results"
   ]
  },
  {
   "cell_type": "code",
   "execution_count": null,
   "id": "cdb94d44-5429-4bb1-a5f0-cacab4631b73",
   "metadata": {},
   "outputs": [],
   "source": [
    "!gcloud storage cp -r gs://$output_bucket/$output_path ."
   ]
  },
  {
   "cell_type": "code",
   "execution_count": null,
   "id": "e6f08434-88e0-4239-b701-e1450283bb6f",
   "metadata": {},
   "outputs": [],
   "source": [
    "!ls -lah $job_id"
   ]
  },
  {
   "cell_type": "code",
   "execution_count": null,
   "id": "eef6ba5b-71d6-4929-af77-d5cab4b327f4",
   "metadata": {},
   "outputs": [],
   "source": []
  }
 ],
 "metadata": {
  "kernelspec": {
   "display_name": "Python 3 (ipykernel)",
   "language": "python",
   "name": "python3"
  },
  "language_info": {
   "codemirror_mode": {
    "name": "ipython",
    "version": 3
   },
   "file_extension": ".py",
   "mimetype": "text/x-python",
   "name": "python",
   "nbconvert_exporter": "python",
   "pygments_lexer": "ipython3",
   "version": "3.11.4"
  }
 },
 "nbformat": 4,
 "nbformat_minor": 5
}
