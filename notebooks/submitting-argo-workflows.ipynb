{
 "cells": [
  {
   "cell_type": "markdown",
   "id": "58cd9170-4653-4a46-b1ba-973ebb63a05d",
   "metadata": {},
   "source": [
    "# Building and Submitting Argo Workflows Using Hera"
   ]
  },
  {
   "cell_type": "code",
   "execution_count": 2,
   "id": "7bd60270-55a7-442f-aee4-113cff865bc2",
   "metadata": {},
   "outputs": [],
   "source": [
    "from hera.workflows import Steps, Step, Workflow, script, WorkflowsService\n",
    "from hera.workflows.models import WorkflowTemplateRef, TemplateRef\n",
    "from hera.shared import global_config"
   ]
  },
  {
   "cell_type": "code",
   "execution_count": 1,
   "id": "494a4cd3-2b8f-42a1-9de4-9432bc2394aa",
   "metadata": {},
   "outputs": [],
   "source": [
    "# token is obtained from https://workflows.argo.cuahsi.io/userinfo\n",
    "argo_token = \"v2:eyJhbGciOiJSU0EtT0FFUC0yNTYiLCJlbmMiOiJBMjU2R0NNIiwiemlwIjoiREVGIn0.Ltyir_rKyc6LtTOddzI90ybwg4uC11N7rdVJ_Sk0C5rguHAEvjkbOZC4pttOdlIjPHKrc8Ucbtf0IUGKzTZVlDZWXvCUqKyi7QL5qY7OZQwyOkdem1AYfu_dtlPEeMY9t-gei1Z5GGPloR0Qh-D8WvbADUda3onWlwkySm15YorCMNYlmhQSnRwhy_h5Z1cYRLSxFCcVUZ5V7ceU7cnSzOVC_LeQcWJBCNhCkHL1jQtZMG7GOULsHQZf5ZEQsFfuqFut0C1dn4rjnWilOyQSK0ScXWIX9oQqpPzg5p6BWx3HJzvtu1yEbfbdh6T-HXRUDIKyG7ZCKNAR88uD0Qq-eA.T94_tqVMAMAHsrc3.trsCc0BFqlCD0ACSUz-WJiGHoYAxtYbRmS93j1BZIhDveCVQe6rPXxtSZVO1d_MeQ-CoCTmVXk4StE0frsz6uezC-58cbv9q.C-pSavoLfhell9L1cdWmZA\"\n",
    "argo_host  = \"https://workflows.argo.cuahsi.io\"\n",
    "argo_ns    = \"workflows\"\n",
    "\n"
   ]
  },
  {
   "cell_type": "code",
   "execution_count": 3,
   "id": "16256102-d10f-48c7-8f58-789dc2ab8211",
   "metadata": {},
   "outputs": [],
   "source": [
    "ws=WorkflowsService(host=argo_host,\n",
    "                   token=argo_token,\n",
    "                   namespace=argo_ns)"
   ]
  },
  {
   "cell_type": "markdown",
   "id": "436fccd9-3dbf-469b-a2d3-e598e6653a8a",
   "metadata": {},
   "source": [
    "Test the connection"
   ]
  },
  {
   "cell_type": "code",
   "execution_count": 4,
   "id": "344120e4-f7fc-4658-ae10-da0330845420",
   "metadata": {},
   "outputs": [
    {
     "data": {
      "text/plain": [
       "InfoResponse(links=None, managed_namespace=None, modals=None, nav_color=None)"
      ]
     },
     "execution_count": 4,
     "metadata": {},
     "output_type": "execute_result"
    }
   ],
   "source": [
    "ws.get_info()"
   ]
  },
  {
   "cell_type": "markdown",
   "id": "cbb751c6-9288-493e-9a1f-150761320278",
   "metadata": {},
   "source": [
    "Define a function to print job status"
   ]
  },
  {
   "cell_type": "code",
   "execution_count": 5,
   "id": "6f2a1711-3f6b-4c73-9667-adc630819349",
   "metadata": {},
   "outputs": [],
   "source": [
    "import time\n",
    "import datetime \n",
    "\n",
    "def display_status(workflow):\n",
    "    job_name = workflow.name\n",
    "\n",
    "    # initial values\n",
    "    finished_at = None\n",
    "    start_time = None\n",
    "    \n",
    "    print(f'Job: {job_name}') \n",
    "    while finished_at is None:\n",
    "        # query the job status\n",
    "        status = workflow.workflows_service.get_workflow(job_name).status\n",
    "\n",
    "        # set start time\n",
    "        if start_time is None:\n",
    "            start_time = status.started_at.__root__\n",
    "\n",
    "        # get current time\n",
    "        now = datetime.datetime.now(datetime.timezone.utc)\n",
    "\n",
    "        # display progress\n",
    "        print(f'Progress: {status.progress} ' +\n",
    "              f'[{status.phase}]' + \n",
    "              f' - Elapsed time={now-start_time} seconds', end='\\r')\n",
    "\n",
    "        # update finished time\n",
    "        finished_at = status.finished_at\n",
    "    \n",
    "        time.sleep(1)\n",
    "        \n",
    "    print('')\n",
    "    print(f'Finished at: {str(finished_at.__root__)}')"
   ]
  },
  {
   "cell_type": "markdown",
   "id": "7af1f369-7659-4442-9252-2848ece9614f",
   "metadata": {},
   "source": [
    "## Run a sample job"
   ]
  },
  {
   "cell_type": "markdown",
   "id": "020eb2c6-15c5-4da5-94ef-ddea6d32f5c3",
   "metadata": {},
   "source": [
    "Create a simple job (https://github.com/argoproj-labs/hera#examples) "
   ]
  },
  {
   "cell_type": "code",
   "execution_count": null,
   "id": "f6695aac-12e4-4a87-838d-47e756ac28cb",
   "metadata": {},
   "outputs": [],
   "source": [
    "@script()\n",
    "def echo(message: str):\n",
    "    print(message)\n",
    "    \n",
    "with Workflow(\n",
    "    generate_name=\"hello-world-\",\n",
    "    entrypoint=\"steps\",\n",
    "    namespace=\"workflows\",\n",
    "    workflows_service=ws\n",
    ") as w:\n",
    "    with Steps(name=\"steps\"):\n",
    "        \n",
    "        echo(arguments={\"message\": \"Hello world!\"})\n"
   ]
  },
  {
   "cell_type": "markdown",
   "id": "6d96da5a-d4e1-4925-86ac-8f2bad6cdacd",
   "metadata": {},
   "source": [
    "Display the YAML that was generated"
   ]
  },
  {
   "cell_type": "code",
   "execution_count": null,
   "id": "ab58a7fd-06ec-4a28-b664-e3817f357859",
   "metadata": {
    "scrolled": true
   },
   "outputs": [],
   "source": [
    "print(w.to_yaml())"
   ]
  },
  {
   "cell_type": "markdown",
   "id": "ff88ebe4-456e-4ab0-9dda-18d66a2f88fe",
   "metadata": {},
   "source": [
    "Submit the job"
   ]
  },
  {
   "cell_type": "code",
   "execution_count": null,
   "id": "f75fb0a1-a829-44c6-819b-149d4b322e00",
   "metadata": {},
   "outputs": [],
   "source": [
    "_ = w.create()"
   ]
  },
  {
   "cell_type": "markdown",
   "id": "cf594aa1-a890-47cf-b95e-867af7bf455c",
   "metadata": {},
   "source": [
    "Display the job status"
   ]
  },
  {
   "cell_type": "code",
   "execution_count": null,
   "id": "02a196e2-071c-46d3-861d-05d3d2b6f2d9",
   "metadata": {},
   "outputs": [],
   "source": [
    "display_status(w)"
   ]
  },
  {
   "cell_type": "markdown",
   "id": "99999857-5f3b-47db-8536-592523d30a8d",
   "metadata": {},
   "source": [
    "## Run a Job for a Pre-defined Template"
   ]
  },
  {
   "cell_type": "markdown",
   "id": "e2028021-73f3-4654-bb40-22b6703fd80a",
   "metadata": {},
   "source": [
    "List workflow templates that exist in our cluster."
   ]
  },
  {
   "cell_type": "code",
   "execution_count": 6,
   "id": "f54526f2-94d2-49bc-a1b2-3894fc475eff",
   "metadata": {},
   "outputs": [
    {
     "name": "stdout",
     "output_type": "stream",
     "text": [
      "collect-aorc-forcing-batch\n",
      "collect-aorc-forcing-full-v1.1\n",
      "collect-aorc-forcing-v1\n",
      "collect-aorc-forcing-v1.1\n",
      "huc-to-shp\n",
      "linked-ngen-metadata\n",
      "map-reduce-aorc\n",
      "metadata-extractor\n",
      "metadata-extractor-with-dist\n",
      "ngen-subset-v1\n",
      "ngen-v2.0-subset-minio\n",
      "nwm1-subset-minio\n",
      "nwm2-subset-minio\n",
      "parflow-subset-v1-by-huc-minio\n",
      "serenity-now\n",
      "test-dask\n",
      "test-entrypoint\n",
      "test-input-artifacts\n",
      "test-map-reduce\n"
     ]
    }
   ],
   "source": [
    "for wt in ws.list_workflow_templates().items:\n",
    "    print (wt.metadata.name)"
   ]
  },
  {
   "cell_type": "markdown",
   "id": "0cfeaf5f-e434-43bb-9755-2581cee0e99e",
   "metadata": {},
   "source": [
    "Create a workflow template reference from one of the templates listed above"
   ]
  },
  {
   "cell_type": "code",
   "execution_count": 7,
   "id": "c24f5c1b-99f7-40a8-93fe-82c85941897b",
   "metadata": {},
   "outputs": [],
   "source": [
    "wt_ref = WorkflowTemplateRef(name=\"metadata-extractor\", cluster_scope=True)"
   ]
  },
  {
   "cell_type": "markdown",
   "id": "8b7a95e5-29c7-4448-ac05-cd2194e1646c",
   "metadata": {},
   "source": [
    "Create a new workflow using this template"
   ]
  },
  {
   "cell_type": "code",
   "execution_count": 13,
   "id": "05dcd153-749b-4b6c-a81d-fffcbec74743",
   "metadata": {},
   "outputs": [],
   "source": [
    "with Workflow(\n",
    "    generate_name=\"template-test-\",\n",
    "    entrypoint=\"tasks\",\n",
    "    workflows_service=ws,\n",
    "    namespace='workflows',\n",
    ") as w:\n",
    "    metadata_extract_ref = TemplateRef(\n",
    "        name=\"metadata-extractor\",\n",
    "        template=\"metadata-extractor\",\n",
    "    )\n",
    "    with Steps(name=\"tasks\") as s:\n",
    "        Step(\n",
    "            name='call-metadata-extract',\n",
    "            template_ref=metadata_extract_ref,\n",
    "            arguments={'bucket': 'subsetter-outputs',\n",
    "                        'path': 'acastronova/testing-with-sepehr',\n",
    "                       'output-path':'acastronova/testing-with-sepehr/metadata'\n",
    "                       },\n",
    "            )"
   ]
  },
  {
   "cell_type": "markdown",
   "id": "c72f8624-f65d-4df0-ae50-ec63bd14762f",
   "metadata": {},
   "source": [
    "Display the YAML that was created."
   ]
  },
  {
   "cell_type": "code",
   "execution_count": 14,
   "id": "931fcbc9-8a46-49aa-af41-e162ae715ca4",
   "metadata": {},
   "outputs": [
    {
     "name": "stdout",
     "output_type": "stream",
     "text": [
      "apiVersion: argoproj.io/v1alpha1\n",
      "kind: Workflow\n",
      "metadata:\n",
      "  generateName: template-test-\n",
      "  namespace: workflows\n",
      "spec:\n",
      "  entrypoint: tasks\n",
      "  templates:\n",
      "  - name: tasks\n",
      "    steps:\n",
      "    - - arguments:\n",
      "          parameters:\n",
      "          - name: bucket\n",
      "            value: subsetter-outputs\n",
      "          - name: path\n",
      "            value: acastronova/testing-with-sepehr\n",
      "          - name: output-path\n",
      "            value: acastronova/testing-with-sepehr/metadata\n",
      "        name: call-metadata-extract\n",
      "        templateRef:\n",
      "          name: metadata-extractor\n",
      "          template: metadata-extractor\n",
      "\n"
     ]
    }
   ],
   "source": [
    "print(w.to_yaml())"
   ]
  },
  {
   "cell_type": "markdown",
   "id": "f8d84a35-418d-4122-b486-f1800291fdfe",
   "metadata": {},
   "source": [
    "Submit the job"
   ]
  },
  {
   "cell_type": "code",
   "execution_count": 15,
   "id": "59d0afaa-f8ed-4f73-94f2-d5e0aa58b511",
   "metadata": {},
   "outputs": [],
   "source": [
    "_ = w.create()"
   ]
  },
  {
   "cell_type": "markdown",
   "id": "fc88daf1-a18b-4343-a328-86b9f78380d1",
   "metadata": {},
   "source": [
    "Display the job status"
   ]
  },
  {
   "cell_type": "code",
   "execution_count": 16,
   "id": "2216a5d5-a936-4a47-91f3-b7339710f895",
   "metadata": {},
   "outputs": [
    {
     "name": "stdout",
     "output_type": "stream",
     "text": [
      "Job: template-test-6h52q\n",
      "Progress: 1/1 [Succeeded] - Elapsed time=0:00:10.071083 seconds\n",
      "Finished at: 2023-12-13 19:59:54+00:00\n"
     ]
    }
   ],
   "source": [
    "display_status(w)"
   ]
  },
  {
   "cell_type": "code",
   "execution_count": null,
   "id": "12c44e22-7c81-4b4c-ab95-dd7e8ed8ba43",
   "metadata": {},
   "outputs": [],
   "source": []
  }
 ],
 "metadata": {
  "kernelspec": {
   "display_name": "Python 3 (ipykernel)",
   "language": "python",
   "name": "python3"
  },
  "language_info": {
   "codemirror_mode": {
    "name": "ipython",
    "version": 3
   },
   "file_extension": ".py",
   "mimetype": "text/x-python",
   "name": "python",
   "nbconvert_exporter": "python",
   "pygments_lexer": "ipython3",
   "version": "3.11.4"
  }
 },
 "nbformat": 4,
 "nbformat_minor": 5
}
