{
 "cells": [
  {
   "cell_type": "markdown",
   "id": "58cd9170-4653-4a46-b1ba-973ebb63a05d",
   "metadata": {},
   "source": [
    "# Building and Submitting Argo Workflows Using Hera"
   ]
  },
  {
   "cell_type": "code",
   "execution_count": 1,
   "id": "7bd60270-55a7-442f-aee4-113cff865bc2",
   "metadata": {},
   "outputs": [],
   "source": [
    "from hera.workflows import Steps, Step, Workflow, script, WorkflowsService\n",
    "from hera.workflows.models import WorkflowTemplateRef, TemplateRef\n",
    "from hera.shared import global_config"
   ]
  },
  {
   "cell_type": "code",
   "execution_count": 2,
   "id": "494a4cd3-2b8f-42a1-9de4-9432bc2394aa",
   "metadata": {},
   "outputs": [],
   "source": [
    "# token is obtained from https://workflows.argo.cuahsi.io/userinfo\n",
    "argo_token = \"v2:eyJhbGciOiJSU0EtT0FFUC0yNTYiLCJlbmMiOiJBMjU2R0NNIiwiemlwIjoiREVGIn0.Jmwv5MWyI9zAt3zM5teLzoXAu3VbTicO9I-HtPdI88nRp_ETGXkFQqC5aM_msNYlJSF5ncrugC5RexrhvxPIq5tZeWHDG9dzif6TDn1Z6G8vuicIcbwKCbhtveFWoJHUNO4rz714Rt5decdPeIwxBTJ2bKoPnK8HZtrit2fDseJOrD9EYBUSpjMZt-aiSGD7SuHye08kNggmHVEzfNOx-ehXI2doq62_bqZNNOOLR4H_p48SV2DVaQHU28yH5dVKBPoS9gQcxM0UTeadyjNm4M_I4s4-g-8tVDhzadUih6rtFw33smvK_gjon30N4mtUP2rNrhLjGy701bbj_RnFRA.7RZ66x0RfHrFzmBA.0ntF913jQdh3Urda5EOMqMI2Gzn59ttOcmfmX3dfvkLzSjktGK6UTcQE7d3lLRPejzeOrfe0LfFVjVcJDFvkQoITZIHhBtc.Q81RRcNnwtUKQ0y5hknjiw\"\n",
    "argo_host  = \"https://workflows.argo.cuahsi.io\"\n",
    "argo_ns    = \"workflows\""
   ]
  },
  {
   "cell_type": "code",
   "execution_count": 3,
   "id": "16256102-d10f-48c7-8f58-789dc2ab8211",
   "metadata": {},
   "outputs": [],
   "source": [
    "ws=WorkflowsService(host=argo_host,\n",
    "                   token=argo_token,\n",
    "                   namespace=argo_ns)"
   ]
  },
  {
   "cell_type": "markdown",
   "id": "436fccd9-3dbf-469b-a2d3-e598e6653a8a",
   "metadata": {},
   "source": [
    "Test the connection"
   ]
  },
  {
   "cell_type": "code",
   "execution_count": 4,
   "id": "344120e4-f7fc-4658-ae10-da0330845420",
   "metadata": {},
   "outputs": [
    {
     "data": {
      "text/plain": [
       "InfoResponse(links=None, managed_namespace=None, modals=None, nav_color=None)"
      ]
     },
     "execution_count": 4,
     "metadata": {},
     "output_type": "execute_result"
    }
   ],
   "source": [
    "ws.get_info()"
   ]
  },
  {
   "cell_type": "markdown",
   "id": "cbb751c6-9288-493e-9a1f-150761320278",
   "metadata": {},
   "source": [
    "Define a function to print job status"
   ]
  },
  {
   "cell_type": "code",
   "execution_count": 52,
   "id": "6f2a1711-3f6b-4c73-9667-adc630819349",
   "metadata": {},
   "outputs": [],
   "source": [
    "import time\n",
    "import datetime \n",
    "\n",
    "def display_status(workflow):\n",
    "    job_name = workflow.name\n",
    "\n",
    "    # initial values\n",
    "    finished_at = None\n",
    "    start_time = None\n",
    "    \n",
    "    print(f'Job: {job_name}') \n",
    "    while finished_at is None:\n",
    "        # query the job status\n",
    "        status = workflow.workflows_service.get_workflow(job_name).status\n",
    "\n",
    "        # set start time\n",
    "        if start_time is None:\n",
    "            start_time = status.started_at.__root__\n",
    "\n",
    "        # get current time\n",
    "        now = datetime.datetime.now(datetime.timezone.utc)\n",
    "\n",
    "        # display progress\n",
    "        print(f'Progress: {status.progress} ' +\n",
    "              f'[{status.phase}]' + \n",
    "              f' - Elapsed time={now-start_time} seconds', end='\\r')\n",
    "\n",
    "        # update finished time\n",
    "        finished_at = status.finished_at\n",
    "    \n",
    "        time.sleep(1)\n",
    "        \n",
    "    print('')\n",
    "    print(f'Finished at: {str(finished_at.__root__)}')"
   ]
  },
  {
   "cell_type": "markdown",
   "id": "7af1f369-7659-4442-9252-2848ece9614f",
   "metadata": {},
   "source": [
    "## Run a sample job"
   ]
  },
  {
   "cell_type": "markdown",
   "id": "020eb2c6-15c5-4da5-94ef-ddea6d32f5c3",
   "metadata": {},
   "source": [
    "Create a simple job (https://github.com/argoproj-labs/hera#examples) "
   ]
  },
  {
   "cell_type": "code",
   "execution_count": 53,
   "id": "f6695aac-12e4-4a87-838d-47e756ac28cb",
   "metadata": {},
   "outputs": [],
   "source": [
    "@script()\n",
    "def echo(message: str):\n",
    "    print(message)\n",
    "    \n",
    "with Workflow(\n",
    "    generate_name=\"hello-world-\",\n",
    "    entrypoint=\"steps\",\n",
    "    namespace=\"workflows\",\n",
    "    workflows_service=ws\n",
    ") as w:\n",
    "    with Steps(name=\"steps\"):\n",
    "        \n",
    "        echo(arguments={\"message\": \"Hello world!\"})\n"
   ]
  },
  {
   "cell_type": "markdown",
   "id": "6d96da5a-d4e1-4925-86ac-8f2bad6cdacd",
   "metadata": {},
   "source": [
    "Display the YAML that was generated"
   ]
  },
  {
   "cell_type": "code",
   "execution_count": 54,
   "id": "ab58a7fd-06ec-4a28-b664-e3817f357859",
   "metadata": {
    "collapsed": true,
    "jupyter": {
     "outputs_hidden": true
    },
    "scrolled": true
   },
   "outputs": [
    {
     "name": "stdout",
     "output_type": "stream",
     "text": [
      "apiVersion: argoproj.io/v1alpha1\n",
      "kind: Workflow\n",
      "metadata:\n",
      "  generateName: hello-world-\n",
      "  namespace: workflows\n",
      "spec:\n",
      "  entrypoint: steps\n",
      "  templates:\n",
      "  - name: steps\n",
      "    steps:\n",
      "    - - arguments:\n",
      "          parameters:\n",
      "          - name: message\n",
      "            value: Hello world!\n",
      "        name: echo\n",
      "        template: echo\n",
      "  - inputs:\n",
      "      parameters:\n",
      "      - name: message\n",
      "    name: echo\n",
      "    script:\n",
      "      command:\n",
      "      - python\n",
      "      image: python:3.8\n",
      "      source: 'import os\n",
      "\n",
      "        import sys\n",
      "\n",
      "        sys.path.append(os.getcwd())\n",
      "\n",
      "        import json\n",
      "\n",
      "        try: message = json.loads(r''''''{{inputs.parameters.message}}'''''')\n",
      "\n",
      "        except: message = r''''''{{inputs.parameters.message}}''''''\n",
      "\n",
      "\n",
      "        print(message)'\n",
      "\n"
     ]
    }
   ],
   "source": [
    "print(w.to_yaml())"
   ]
  },
  {
   "cell_type": "markdown",
   "id": "ff88ebe4-456e-4ab0-9dda-18d66a2f88fe",
   "metadata": {},
   "source": [
    "Submit the job"
   ]
  },
  {
   "cell_type": "code",
   "execution_count": 55,
   "id": "f75fb0a1-a829-44c6-819b-149d4b322e00",
   "metadata": {},
   "outputs": [],
   "source": [
    "_ = w.create()"
   ]
  },
  {
   "cell_type": "markdown",
   "id": "cf594aa1-a890-47cf-b95e-867af7bf455c",
   "metadata": {},
   "source": [
    "Display the job status"
   ]
  },
  {
   "cell_type": "code",
   "execution_count": 56,
   "id": "02a196e2-071c-46d3-861d-05d3d2b6f2d9",
   "metadata": {},
   "outputs": [
    {
     "name": "stdout",
     "output_type": "stream",
     "text": [
      "Job: hello-world-m8c8l\n",
      "Job progress: 1/1 [Succeeded] - Elapsed time=0:00:11.871370 seconds\n",
      "Job finished at: 2023-07-20 14:15:12+00:00\n"
     ]
    }
   ],
   "source": [
    "display_status(w)"
   ]
  },
  {
   "cell_type": "markdown",
   "id": "99999857-5f3b-47db-8536-592523d30a8d",
   "metadata": {},
   "source": [
    "## Run a Job for a Pre-defined Template"
   ]
  },
  {
   "cell_type": "markdown",
   "id": "e2028021-73f3-4654-bb40-22b6703fd80a",
   "metadata": {},
   "source": [
    "List workflow templates that exist in our cluster."
   ]
  },
  {
   "cell_type": "code",
   "execution_count": 57,
   "id": "f54526f2-94d2-49bc-a1b2-3894fc475eff",
   "metadata": {},
   "outputs": [
    {
     "name": "stdout",
     "output_type": "stream",
     "text": [
      "linked-ngen-metadata\n",
      "metadata-extractor\n",
      "ngen-subset-v1\n",
      "parflow-subset\n",
      "parflow-v1-plus-extract\n",
      "serenity-now\n",
      "test-input-artifacts\n"
     ]
    }
   ],
   "source": [
    "for wt in ws.list_workflow_templates().items:\n",
    "    print (wt.metadata.name)"
   ]
  },
  {
   "cell_type": "markdown",
   "id": "0cfeaf5f-e434-43bb-9755-2581cee0e99e",
   "metadata": {},
   "source": [
    "Create a workflow template reference from one of the templates listed above"
   ]
  },
  {
   "cell_type": "code",
   "execution_count": 58,
   "id": "c24f5c1b-99f7-40a8-93fe-82c85941897b",
   "metadata": {},
   "outputs": [],
   "source": [
    "wt_ref = WorkflowTemplateRef(name=\"metadata-extractor\", cluster_scope=True)"
   ]
  },
  {
   "cell_type": "markdown",
   "id": "8b7a95e5-29c7-4448-ac05-cd2194e1646c",
   "metadata": {},
   "source": [
    "Create a new workflow using this template"
   ]
  },
  {
   "cell_type": "code",
   "execution_count": 63,
   "id": "05dcd153-749b-4b6c-a81d-fffcbec74743",
   "metadata": {},
   "outputs": [],
   "source": [
    "with Workflow(\n",
    "    generate_name=\"template-test-\",\n",
    "    entrypoint=\"tasks\",\n",
    "    workflows_service=ws,\n",
    "    namespace='workflows',\n",
    ") as w:\n",
    "    metadata_extract_ref = TemplateRef(\n",
    "        name=\"metadata-extractor\",\n",
    "        template=\"metadata-extractor\",\n",
    "    )\n",
    "    with Steps(name=\"tasks\") as s:\n",
    "        Step(\n",
    "            name='call-metadata-extract',\n",
    "            template_ref=metadata_extract_ref,\n",
    "            arguments={'bucket': 'subsetter-outputs',\n",
    "                        'path': 'ngen/abc123',\n",
    "                       },\n",
    "            )"
   ]
  },
  {
   "cell_type": "markdown",
   "id": "c72f8624-f65d-4df0-ae50-ec63bd14762f",
   "metadata": {},
   "source": [
    "Display the YAML that was created."
   ]
  },
  {
   "cell_type": "code",
   "execution_count": 64,
   "id": "931fcbc9-8a46-49aa-af41-e162ae715ca4",
   "metadata": {},
   "outputs": [
    {
     "name": "stdout",
     "output_type": "stream",
     "text": [
      "apiVersion: argoproj.io/v1alpha1\n",
      "kind: Workflow\n",
      "metadata:\n",
      "  generateName: template-test-\n",
      "  namespace: workflows\n",
      "spec:\n",
      "  entrypoint: tasks\n",
      "  templates:\n",
      "  - name: tasks\n",
      "    steps:\n",
      "    - - arguments:\n",
      "          parameters:\n",
      "          - name: bucket\n",
      "            value: subsetter-outputs\n",
      "          - name: path\n",
      "            value: ngen/abc123\n",
      "        name: call-metadata-extract\n",
      "        templateRef:\n",
      "          name: metadata-extractor\n",
      "          template: metadata-extractor\n",
      "\n"
     ]
    }
   ],
   "source": [
    "print(w.to_yaml())"
   ]
  },
  {
   "cell_type": "markdown",
   "id": "f8d84a35-418d-4122-b486-f1800291fdfe",
   "metadata": {},
   "source": [
    "Submit the job"
   ]
  },
  {
   "cell_type": "code",
   "execution_count": 65,
   "id": "59d0afaa-f8ed-4f73-94f2-d5e0aa58b511",
   "metadata": {},
   "outputs": [],
   "source": [
    "_ = w.create()"
   ]
  },
  {
   "cell_type": "markdown",
   "id": "fc88daf1-a18b-4343-a328-86b9f78380d1",
   "metadata": {},
   "source": [
    "Display the job status"
   ]
  },
  {
   "cell_type": "code",
   "execution_count": 66,
   "id": "2216a5d5-a936-4a47-91f3-b7339710f895",
   "metadata": {},
   "outputs": [
    {
     "name": "stdout",
     "output_type": "stream",
     "text": [
      "Job: template-test-64lsf\n",
      "Job progress: 1/1 [Succeeded] - Elapsed time=0:00:11.199767 seconds\n",
      "Job finished at: 2023-07-20 14:18:21+00:00\n"
     ]
    }
   ],
   "source": [
    "display_status(w)"
   ]
  }
 ],
 "metadata": {
  "kernelspec": {
   "display_name": "Python 3 (ipykernel)",
   "language": "python",
   "name": "python3"
  },
  "language_info": {
   "codemirror_mode": {
    "name": "ipython",
    "version": 3
   },
   "file_extension": ".py",
   "mimetype": "text/x-python",
   "name": "python",
   "nbconvert_exporter": "python",
   "pygments_lexer": "ipython3",
   "version": "3.11.4"
  }
 },
 "nbformat": 4,
 "nbformat_minor": 5
}
