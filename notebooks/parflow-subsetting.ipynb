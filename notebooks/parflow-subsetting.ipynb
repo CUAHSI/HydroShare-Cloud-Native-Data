{
 "cells": [
  {
   "cell_type": "markdown",
   "id": "58cd9170-4653-4a46-b1ba-973ebb63a05d",
   "metadata": {},
   "source": [
    "# Executing a Parflow Subsetting Workflow"
   ]
  },
  {
   "cell_type": "code",
   "execution_count": 1,
   "id": "7bd60270-55a7-442f-aee4-113cff865bc2",
   "metadata": {},
   "outputs": [],
   "source": [
    "from hera.workflows import Steps, Step, Workflow, script, WorkflowsService\n",
    "from hera.workflows.models import WorkflowTemplateRef, TemplateRef\n",
    "from hera.shared import global_config"
   ]
  },
  {
   "cell_type": "code",
   "execution_count": 2,
   "id": "494a4cd3-2b8f-42a1-9de4-9432bc2394aa",
   "metadata": {},
   "outputs": [],
   "source": [
    "# token is obtained from https://workflows.argo.cuahsi.io/userinfo\n",
    "argo_token = \"v2:eyJhbGciOiJSU0EtT0FFUC0yNTYiLCJlbmMiOiJBMjU2R0NNIiwiemlwIjoiREVGIn0.Jmwv5MWyI9zAt3zM5teLzoXAu3VbTicO9I-HtPdI88nRp_ETGXkFQqC5aM_msNYlJSF5ncrugC5RexrhvxPIq5tZeWHDG9dzif6TDn1Z6G8vuicIcbwKCbhtveFWoJHUNO4rz714Rt5decdPeIwxBTJ2bKoPnK8HZtrit2fDseJOrD9EYBUSpjMZt-aiSGD7SuHye08kNggmHVEzfNOx-ehXI2doq62_bqZNNOOLR4H_p48SV2DVaQHU28yH5dVKBPoS9gQcxM0UTeadyjNm4M_I4s4-g-8tVDhzadUih6rtFw33smvK_gjon30N4mtUP2rNrhLjGy701bbj_RnFRA.7RZ66x0RfHrFzmBA.0ntF913jQdh3Urda5EOMqMI2Gzn59ttOcmfmX3dfvkLzSjktGK6UTcQE7d3lLRPejzeOrfe0LfFVjVcJDFvkQoITZIHhBtc.Q81RRcNnwtUKQ0y5hknjiw\"\n",
    "argo_host  = \"https://workflows.argo.cuahsi.io\"\n",
    "argo_ns    = \"workflows\""
   ]
  },
  {
   "cell_type": "code",
   "execution_count": 3,
   "id": "16256102-d10f-48c7-8f58-789dc2ab8211",
   "metadata": {},
   "outputs": [],
   "source": [
    "ws=WorkflowsService(host=argo_host,\n",
    "                   token=argo_token,\n",
    "                   namespace=argo_ns)"
   ]
  },
  {
   "cell_type": "markdown",
   "id": "436fccd9-3dbf-469b-a2d3-e598e6653a8a",
   "metadata": {},
   "source": [
    "Test the connection"
   ]
  },
  {
   "cell_type": "code",
   "execution_count": 4,
   "id": "344120e4-f7fc-4658-ae10-da0330845420",
   "metadata": {},
   "outputs": [
    {
     "data": {
      "text/plain": [
       "InfoResponse(links=None, managed_namespace=None, modals=None, nav_color=None)"
      ]
     },
     "execution_count": 4,
     "metadata": {},
     "output_type": "execute_result"
    }
   ],
   "source": [
    "ws.get_info()"
   ]
  },
  {
   "cell_type": "markdown",
   "id": "cbb751c6-9288-493e-9a1f-150761320278",
   "metadata": {},
   "source": [
    "Define a function to print job status"
   ]
  },
  {
   "cell_type": "code",
   "execution_count": 5,
   "id": "6f2a1711-3f6b-4c73-9667-adc630819349",
   "metadata": {},
   "outputs": [],
   "source": [
    "import time\n",
    "import datetime \n",
    "\n",
    "def display_status(workflow):\n",
    "    job_name = workflow.name\n",
    "\n",
    "    # initial values\n",
    "    finished_at = None\n",
    "    start_time = None\n",
    "    \n",
    "    print(f'Job: {job_name}') \n",
    "    while finished_at is None:\n",
    "        # query the job status\n",
    "        status = workflow.workflows_service.get_workflow(job_name).status\n",
    "\n",
    "        # set start time\n",
    "        if start_time is None:\n",
    "            start_time = status.started_at.__root__\n",
    "\n",
    "        # get current time\n",
    "        now = datetime.datetime.now(datetime.timezone.utc)\n",
    "\n",
    "        # display progress\n",
    "        print(f'Progress: {status.progress} ' +\n",
    "              f'[{status.phase}]' + \n",
    "              f' - Elapsed time={now-start_time} seconds', end='\\r')\n",
    "\n",
    "        # update finished time\n",
    "        finished_at = status.finished_at\n",
    "    \n",
    "        time.sleep(1)\n",
    "        \n",
    "    print('')\n",
    "    print(f'Finished at: {str(finished_at.__root__)}')"
   ]
  },
  {
   "cell_type": "markdown",
   "id": "e2028021-73f3-4654-bb40-22b6703fd80a",
   "metadata": {},
   "source": [
    "List workflow templates that exist in our cluster."
   ]
  },
  {
   "cell_type": "code",
   "execution_count": 6,
   "id": "f54526f2-94d2-49bc-a1b2-3894fc475eff",
   "metadata": {},
   "outputs": [
    {
     "name": "stdout",
     "output_type": "stream",
     "text": [
      "linked-ngen-metadata\n",
      "metadata-extractor\n",
      "ngen-subset-v1\n",
      "parflow-subset\n",
      "parflow-v1-plus-extract\n",
      "serenity-now\n",
      "test-input-artifacts\n"
     ]
    }
   ],
   "source": [
    "for wt in ws.list_workflow_templates().items:\n",
    "    print (wt.metadata.name)"
   ]
  },
  {
   "cell_type": "markdown",
   "id": "8b7a95e5-29c7-4448-ac05-cd2194e1646c",
   "metadata": {},
   "source": [
    "Create a workflow that combines Parflow Subsetting and Metadata Extraction."
   ]
  },
  {
   "cell_type": "code",
   "execution_count": 27,
   "id": "05dcd153-749b-4b6c-a81d-fffcbec74743",
   "metadata": {},
   "outputs": [],
   "source": [
    "with Workflow(\n",
    "    generate_name=\"parflow-subsetting-job-\",\n",
    "    entrypoint=\"tasks\",\n",
    "    workflows_service=ws,\n",
    "    namespace='workflows',\n",
    ") as w:\n",
    "    parflow_subset_ref = TemplateRef(\n",
    "        name=\"parflow-subset\",\n",
    "        template=\"parflow-subset-v1\",\n",
    "    )\n",
    "    metadata_extract_ref = TemplateRef(\n",
    "        name=\"metadata-extractor\",\n",
    "        template=\"metadata-extractor\",\n",
    "    )\n",
    "    with Steps(name=\"tasks\") as s:\n",
    "        Step(\n",
    "            name='call-parflow-subset',\n",
    "            template_ref=parflow_subset_ref,\n",
    "\n",
    "            # I'm not sure why input-bucket, input-path, output-bucket, and label need to be\n",
    "            # defined here. They have default values in the template, however it they are \n",
    "            # omitted we get an error that they were not provided.\n",
    "            arguments={'input-bucket': 'subsetter-static-input',\n",
    "                       'input-path': 'pfconus.v1.0',\n",
    "                       'output-bucket': 'subsetter-outputs',\n",
    "                       'label': 'my-subset-job',\n",
    "                       'output-path': 'parflow/abc123',\n",
    "                       'shapefile-name': 'watershed.shp',\n",
    "                       },\n",
    "            )\n",
    "        Step(\n",
    "            name='call-metadata-extract',\n",
    "            template_ref=metadata_extract_ref,\n",
    "            arguments={'bucket': 'subsetter-outputs',\n",
    "                       'path': 'ngen/abc123',\n",
    "                       },\n",
    "            )"
   ]
  },
  {
   "cell_type": "markdown",
   "id": "c72f8624-f65d-4df0-ae50-ec63bd14762f",
   "metadata": {},
   "source": [
    "Display the YAML that was created."
   ]
  },
  {
   "cell_type": "code",
   "execution_count": 28,
   "id": "931fcbc9-8a46-49aa-af41-e162ae715ca4",
   "metadata": {},
   "outputs": [
    {
     "name": "stdout",
     "output_type": "stream",
     "text": [
      "apiVersion: argoproj.io/v1alpha1\n",
      "kind: Workflow\n",
      "metadata:\n",
      "  generateName: parflow-subsetting-job-\n",
      "  namespace: workflows\n",
      "spec:\n",
      "  entrypoint: tasks\n",
      "  templates:\n",
      "  - name: tasks\n",
      "    steps:\n",
      "    - - arguments:\n",
      "          parameters:\n",
      "          - name: input-bucket\n",
      "            value: subsetter-static-input\n",
      "          - name: input-path\n",
      "            value: pfconus.v1.0\n",
      "          - name: output-bucket\n",
      "            value: subsetter-outputs\n",
      "          - name: label\n",
      "            value: my-subset-job\n",
      "          - name: output-path\n",
      "            value: parflow/abc123\n",
      "          - name: shapefile-name\n",
      "            value: watershed.shp\n",
      "        name: call-parflow-subset\n",
      "        templateRef:\n",
      "          name: parflow-subset\n",
      "          template: parflow-subset-v1\n",
      "    - - arguments:\n",
      "          parameters:\n",
      "          - name: bucket\n",
      "            value: subsetter-outputs\n",
      "          - name: path\n",
      "            value: ngen/abc123\n",
      "        name: call-metadata-extract\n",
      "        templateRef:\n",
      "          name: metadata-extractor\n",
      "          template: metadata-extractor\n",
      "\n"
     ]
    }
   ],
   "source": [
    "print(w.to_yaml())"
   ]
  },
  {
   "cell_type": "markdown",
   "id": "f8d84a35-418d-4122-b486-f1800291fdfe",
   "metadata": {},
   "source": [
    "Submit the job"
   ]
  },
  {
   "cell_type": "code",
   "execution_count": 29,
   "id": "59d0afaa-f8ed-4f73-94f2-d5e0aa58b511",
   "metadata": {},
   "outputs": [],
   "source": [
    "_ = w.create()"
   ]
  },
  {
   "cell_type": "markdown",
   "id": "fc88daf1-a18b-4343-a328-86b9f78380d1",
   "metadata": {},
   "source": [
    "Display the job status"
   ]
  },
  {
   "cell_type": "code",
   "execution_count": 30,
   "id": "2216a5d5-a936-4a47-91f3-b7339710f895",
   "metadata": {},
   "outputs": [
    {
     "name": "stdout",
     "output_type": "stream",
     "text": [
      "Job: parflow-subsetting-job-jh4gb\n",
      "Progress: 2/2 [Succeeded] - Elapsed time=0:03:09.903192 seconds\n",
      "Finished at: 2023-07-20 14:49:44+00:00\n"
     ]
    }
   ],
   "source": [
    "display_status(w)"
   ]
  },
  {
   "attachments": {
    "c23aeb77-70c7-4c52-a3fd-b5ec78163d85.png": {
     "image/png": "[encoded data removed]"
    }
   },
   "cell_type": "markdown",
   "id": "5f941633-6f7e-46ed-90d1-61695d254669",
   "metadata": {},
   "source": [
    "![Screenshot 2023-07-20 at 10.51.58 AM.png](attachment:c23aeb77-70c7-4c52-a3fd-b5ec78163d85.png)"
   ]
  },
  {
   "cell_type": "code",
   "execution_count": null,
   "id": "53c0533e-69b1-43c5-af57-bc8598193ad9",
   "metadata": {},
   "outputs": [],
   "source": []
  }
 ],
 "metadata": {
  "kernelspec": {
   "display_name": "Python 3 (ipykernel)",
   "language": "python",
   "name": "python3"
  },
  "language_info": {
   "codemirror_mode": {
    "name": "ipython",
    "version": 3
   },
   "file_extension": ".py",
   "mimetype": "text/x-python",
   "name": "python",
   "nbconvert_exporter": "python",
   "pygments_lexer": "ipython3",
   "version": "3.11.4"
  }
 },
 "nbformat": 4,
 "nbformat_minor": 5
}
