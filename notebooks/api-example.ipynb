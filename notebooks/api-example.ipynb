{
 "cells": [
  {
   "cell_type": "code",
   "execution_count": null,
   "metadata": {},
   "outputs": [],
   "source": [
    "! pip install git+https://github.com/CUAHSI/argo-workflow-python-client.git"
   ]
  },
  {
   "cell_type": "code",
   "execution_count": null,
   "metadata": {},
   "outputs": [],
   "source": [
    "import swagger_client\n",
    "\n",
    "# Configure API key authorization: BearerToken\n",
    "configuration = swagger_client.Configuration()\n",
    "configuration.api_key['Authorization'] = '<BearerToken>'\n",
    "configuration.host = \"https://workflows.argo.cuahsi.io\"\n",
    "template_api_instance = swagger_client.WorkflowTemplateServiceApi(swagger_client.ApiClient(configuration))\n",
    "workflow_api_instance = swagger_client.WorkflowServiceApi(swagger_client.ApiClient(configuration))\n",
    "\n",
    "namespace = 'workflows'\n"
   ]
  },
  {
   "cell_type": "code",
   "execution_count": null,
   "metadata": {},
   "outputs": [],
   "source": [
    "from __future__ import print_function\n",
    "from swagger_client.rest import ApiException\n",
    "from pprint import pprint\n",
    "\n",
    "try:\n",
    "    api_response = template_api_instance.workflow_template_service_list_workflow_templates(namespace)\n",
    "    pprint(api_response)\n",
    "except ApiException as e:\n",
    "    print(\"Exception when calling WorkflowTemplateServiceApi->workflow_template_service_list_workflow_templates: %s\\n\" % e)"
   ]
  },
  {
   "cell_type": "code",
   "execution_count": null,
   "metadata": {},
   "outputs": [],
   "source": [
    "for item in api_response.items:\n",
    "    print(item.metadata.name)"
   ]
  },
  {
   "cell_type": "code",
   "execution_count": null,
   "metadata": {},
   "outputs": [],
   "source": [
    "item_with_name_run_cfe_complete = next((item for item in api_response.items if item.metadata.name == \"run-cfe-complete\"), None)\n",
    "item_with_name_run_cfe_complete"
   ]
  },
  {
   "cell_type": "code",
   "execution_count": null,
   "metadata": {},
   "outputs": [],
   "source": [
    "item_with_name_run_cfe_complete.spec.arguments.parameters"
   ]
  },
  {
   "cell_type": "code",
   "execution_count": null,
   "metadata": {},
   "outputs": [],
   "source": [
    "def submit_workflow_body(template_name: str, parameters: dict):\n",
    "    parameters_list = [f\"{key}={value}\" for key, value in parameters.items()]\n",
    "    #workflow_name = f\"{template_name}-{str(uuid.uuid4())}\"\n",
    "    #parameters_list.append(f\"job-id={workflow_name}\")\n",
    "    return {\n",
    "        \"resourceKind\": \"WorkflowTemplate\",\n",
    "        \"resourceName\": template_name,\n",
    "        \"submitOptions\": {\n",
    "            \"parameters\":parameters_list,\n",
    "        }\n",
    "    }\n",
    "parameters = {\n",
    "}\n",
    "body = submit_workflow_body(\"run-cfe-complete\", parameters)\n",
    "api_response = workflow_api_instance.workflow_service_submit_workflow(namespace, body)"
   ]
  },
  {
   "cell_type": "code",
   "execution_count": null,
   "metadata": {},
   "outputs": [],
   "source": [
    "api_response.metadata.name"
   ]
  },
  {
   "cell_type": "code",
   "execution_count": null,
   "metadata": {},
   "outputs": [],
   "source": [
    "my_submitted_workflow = workflow_api_instance.workflow_service_get_workflow(namespace, api_response.metadata.name)\n",
    "my_submitted_workflow.status.phase"
   ]
  },
  {
   "cell_type": "code",
   "execution_count": null,
   "metadata": {},
   "outputs": [],
   "source": [
    "my_submitted_workflow"
   ]
  },
  {
   "cell_type": "markdown",
   "metadata": {},
   "source": []
  }
 ],
 "metadata": {
  "kernelspec": {
   "display_name": "Python 3",
   "language": "python",
   "name": "python3"
  },
  "language_info": {
   "codemirror_mode": {
    "name": "ipython",
    "version": 3
   },
   "file_extension": ".py",
   "mimetype": "text/x-python",
   "name": "python",
   "nbconvert_exporter": "python",
   "pygments_lexer": "ipython3",
   "version": "3.12.3"
  }
 },
 "nbformat": 4,
 "nbformat_minor": 2
}
