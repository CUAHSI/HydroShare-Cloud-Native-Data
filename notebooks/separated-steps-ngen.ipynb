{
 "cells": [
  {
   "cell_type": "code",
   "execution_count": null,
   "metadata": {},
   "outputs": [],
   "source": [
    "! pip install git+https://github.com/CUAHSI/argo-workflow-python-client.git"
   ]
  },
  {
   "cell_type": "code",
   "execution_count": null,
   "metadata": {},
   "outputs": [],
   "source": [
    "import swagger_client\n",
    "\n",
    "# Configure API key authorization: BearerToken\n",
    "configuration = swagger_client.Configuration()\n",
    "configuration.api_key['Authorization'] = '<BearerToken>'\n",
    "configuration.host = \"https://workflows.argo.cuahsi.io\"\n",
    "template_api_instance = swagger_client.WorkflowTemplateServiceApi(swagger_client.ApiClient(configuration))\n",
    "workflow_api_instance = swagger_client.WorkflowServiceApi(swagger_client.ApiClient(configuration))\n",
    "\n",
    "namespace = 'workflows'\n",
    "\n",
    "wb_id = \"wb-2851653\"\n",
    "vpu_id = \"16\"\n",
    "output_bucket = \"sblack\"\n",
    "start_date = \"2020-01-01\"\n",
    "end_date = \"2020-01-02\"\n",
    "hydrofabric_url = \"s3://lynker-spatial/hydrofabric/v20.1/gpkg/\"\n",
    "output_path = \"{{workflow.labels.workflows.argoproj.io/creator-preferred-username}}\" + f\"/{wb_id}\"\n"
   ]
  },
  {
   "cell_type": "code",
   "execution_count": null,
   "metadata": {},
   "outputs": [],
   "source": [
    "def submit_workflow_body(template_name: str, parameters: dict):\n",
    "    parameters_list = [f\"{key}={value}\" for key, value in parameters.items()]\n",
    "    return {\n",
    "        \"resourceKind\": \"WorkflowTemplate\",\n",
    "        \"resourceName\": template_name,\n",
    "        \"submitOptions\": {\n",
    "            \"parameters\":parameters_list,\n",
    "        }\n",
    "    }"
   ]
  },
  {
   "cell_type": "code",
   "execution_count": null,
   "metadata": {},
   "outputs": [],
   "source": [
    "def wait_for_completion(workflow_id):\n",
    "    import time\n",
    "    my_submitted_workflow = workflow_api_instance.workflow_service_get_workflow(namespace, workflow_id)\n",
    "    phase = my_submitted_workflow.status.phase\n",
    "    print(phase)\n",
    "    while my_submitted_workflow.status.phase == 'Running':\n",
    "        my_submitted_workflow = workflow_api_instance.workflow_service_get_workflow(namespace, workflow_id)\n",
    "        phase = my_submitted_workflow.status.phase\n",
    "        print(phase)\n",
    "        time.sleep(5)"
   ]
  },
  {
   "cell_type": "code",
   "execution_count": null,
   "metadata": {},
   "outputs": [],
   "source": [
    "\n",
    "parameters = {\n",
    "    \"wb-id\": wb_id,\n",
    "    \"vpu-id\": vpu_id,\n",
    "    \"output-bucket\": output_bucket,\n",
    "    \"hydrofabric-url\": hydrofabric_url,\n",
    "    \"output-path\": output_path,\n",
    "}\n",
    "body = submit_workflow_body(\"ngen-v2.0-subset-minio\", parameters)\n",
    "api_response = workflow_api_instance.workflow_service_submit_workflow(namespace, body)\n",
    "wait_for_completion(api_response.metadata.name)"
   ]
  },
  {
   "cell_type": "code",
   "execution_count": null,
   "metadata": {},
   "outputs": [],
   "source": [
    "parameters = {\n",
    "    \"shape-file-path\": f\"{output_path}/domain/watershed.gz\",\n",
    "    \"input-bucket\": output_bucket,\n",
    "    \"output-bucket\": output_bucket,\n",
    "    \"output-path\": f\"{output_path}/forcing\",\n",
    "    \"start-date\": start_date,\n",
    "    \"end-date\": end_date,\n",
    "    #\"aorc-secret\": \"secret secret, I got a secret\"\n",
    "}\n",
    "body = submit_workflow_body(\"collect-aorc-forcing-v1.1\", parameters)\n",
    "api_response = workflow_api_instance.workflow_service_submit_workflow(namespace, body)\n",
    "wait_for_completion(api_response.metadata.name)"
   ]
  },
  {
   "cell_type": "code",
   "execution_count": null,
   "metadata": {},
   "outputs": [],
   "source": [
    "parameters = {\n",
    "    \"forcing-bucket\": output_bucket,\n",
    "    \"forcing-path\": f\"{output_path}/forcing\",\n",
    "    \"forcing-file-name\": \"forcing.nc\",\n",
    "    \"domain-bucket\": output_bucket,\n",
    "    \"domain-path\": f\"{output_path}/domain\",\n",
    "    \"geopackage-file-name\": f\"{wb_id}_upstream_subset.gpkg\",\n",
    "    \"noaaowp-attributes-file-name\": \"cfe_noahowp_attributes.csv\",\n",
    "    \"output-bucket\": output_bucket,\n",
    "    \"output-path\": output_path,\n",
    "}\n",
    "body = submit_workflow_body(\"cfe-ngen-configure\", parameters)\n",
    "api_response = workflow_api_instance.workflow_service_submit_workflow(namespace, body)\n",
    "wait_for_completion(api_response.metadata.name)"
   ]
  },
  {
   "cell_type": "code",
   "execution_count": null,
   "metadata": {},
   "outputs": [],
   "source": [
    "parameters = {\n",
    "    \"input-data-bucket\": output_bucket,\n",
    "    \"input-data-path\": output_path,\n",
    "    \"catchment-file-path\": \"domain/catchments.geojson\",\n",
    "    \"nexus-file-path\": \"domain/nexus.geojson\",\n",
    "    \"realization-file-path\": \"config/realization.json\",\n",
    "    \"output-bucket\": output_bucket,\n",
    "    \"output-path\": output_path,\n",
    "}\n",
    "body = submit_workflow_body(\"ngen-run\", parameters)\n",
    "api_response = workflow_api_instance.workflow_service_submit_workflow(namespace, body)\n",
    "wait_for_completion(api_response.metadata.name)"
   ]
  }
 ],
 "metadata": {
  "kernelspec": {
   "display_name": "Python 3",
   "language": "python",
   "name": "python3"
  },
  "language_info": {
   "codemirror_mode": {
    "name": "ipython",
    "version": 3
   },
   "file_extension": ".py",
   "mimetype": "text/x-python",
   "name": "python",
   "nbconvert_exporter": "python",
   "pygments_lexer": "ipython3",
   "version": "3.12.3"
  }
 },
 "nbformat": 4,
 "nbformat_minor": 2
}
