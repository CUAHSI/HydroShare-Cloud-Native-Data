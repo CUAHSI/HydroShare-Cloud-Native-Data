{
 "cells": [
  {
   "cell_type": "code",
   "execution_count": 1,
   "id": "50e65962-7d25-4eab-9bdd-c4d07ccf3639",
   "metadata": {},
   "outputs": [],
   "source": [
    "import sys\n",
    "import pandas\n",
    "from pathlib import Path\n",
    "\n",
    "sys.path.insert(0, str(Path('../').resolve()))\n",
    "import cfe_realization_generator\n",
    "import troute_generator"
   ]
  },
  {
   "cell_type": "code",
   "execution_count": 2,
   "id": "a12f7af4-9d05-4f9a-ac66-eeb0db167976",
   "metadata": {},
   "outputs": [],
   "source": [
    "# INPUT DATA\n",
    "domain_path = Path(\"../test-data/test-medium/domain\")\n",
    "forcing_path = Path(\"../test-data/test-medium/forcing\")"
   ]
  },
  {
   "cell_type": "code",
   "execution_count": 3,
   "id": "65a5033e-2416-4678-a680-56b87c910ec2",
   "metadata": {},
   "outputs": [],
   "source": [
    "# Clean existing dir if it already exists\n",
    "!rm -rf data"
   ]
  },
  {
   "cell_type": "code",
   "execution_count": 4,
   "id": "c6784988-034d-4d74-970f-655d148ad9aa",
   "metadata": {},
   "outputs": [],
   "source": [
    "# prepare directory for output data\n",
    "\n",
    "# Note this directory structure mimicks that of the \n",
    "# NGIAB so that paths will be generated correctly.\n",
    "\n",
    "output_dir = Path(\"data\")\n",
    "output_dir.mkdir(parents=True, exist_ok=True)\n",
    "\n",
    "config_dir = output_dir / 'config'\n",
    "config_dir.mkdir(exist_ok=True)\n",
    "\n",
    "domain_dir = output_dir / 'domain'\n",
    "domain_dir.mkdir(exist_ok=True)\n",
    "\n",
    "forcing_dir = output_dir / 'forcing'\n",
    "forcing_dir.mkdir(exist_ok=True)\n",
    "\n",
    "results_dir = output_dir / 'results'\n",
    "results_dir.mkdir(exist_ok=True)\n",
    "\n",
    "\n",
    "# populate domain and forcing data before building configs\n",
    "!cp {str(domain_path)}/* {str(domain_dir)}\n",
    "!cp {str(forcing_path)}/* {str(forcing_dir)}\n",
    "\n"
   ]
  },
  {
   "cell_type": "code",
   "execution_count": 5,
   "id": "fecbc51d-d23b-4706-baf3-ab522e31f621",
   "metadata": {},
   "outputs": [],
   "source": [
    "# determine start and end dates from the forcing data\n",
    "df = pandas.read_csv(list(forcing_dir.glob('*.csv'))[0])\n",
    "st = pandas.to_datetime(df.time.min())\n",
    "\n",
    "# set the end time \n",
    "#et = pandas.to_datetime(df.time.max())\n",
    "from datetime import timedelta, datetime\n",
    "et = st + timedelta(days=10) # using 10 days to keep simulations short for now."
   ]
  },
  {
   "cell_type": "markdown",
   "id": "fda40f09-9e22-453b-8ef5-40d88683f762",
   "metadata": {},
   "source": [
    "## Generate T-Route Config"
   ]
  },
  {
   "cell_type": "code",
   "execution_count": 13,
   "id": "16e70d7e-244c-47ff-ab4d-e75eee8fb807",
   "metadata": {},
   "outputs": [],
   "source": [
    "tconf = troute_generator.create_troute_configuration(simulation_start = st.to_pydatetime(),\n",
    "                                                     simulation_end   = et.to_pydatetime(),\n",
    "                                                     timestep_in_seconds = 300,\n",
    "                                                     geopackage_path = Path('/ngen/data/domain/wb-2917533_upstream_subset.gpkg'),\n",
    "                                                     input_data_path = Path('/ngen/data/results'),\n",
    "                                                     output_file = config_dir/\"ngen.yaml\")"
   ]
  },
  {
   "cell_type": "code",
   "execution_count": 14,
   "id": "de38fd4f-863d-49e8-b7e3-6fe027abaa49",
   "metadata": {},
   "outputs": [],
   "source": [
    "# need to fix some errors \n",
    "\n",
    "\"\"\"\n",
    "network_topology_parameters -> supernetwork_parameters -> columns -> mainstem\n",
    "  extra fields not permitted (type=value_error.extra)\n",
    "\"\"\"\n",
    "\n",
    "# network topology parameters are not set correctly when using the T-Route \n",
    "# pydantic classes. Load the class and manually remove \"mainstem\" from\n",
    "# the columns dictionary.\n",
    "_ = tconf.network_topology_parameters.supernetwork_parameters.columns.pop('mainstem')\n",
    "\n",
    "# \"\"\"\n",
    "# compute_parameters -> restart_parameters -> start_datetime\n",
    "#   datetime field must be specified as `datetime.datetime` object or string with\n",
    "#   format ('%Y-%m-%d_%H:%M', '%Y-%m-%d_%H:%M:%S', '%Y-%m-%d %H:%M',\n",
    "#   '%Y-%m-%d %H:%M:%S', '%Y/%m/%d %H:%M', '%Y/%m/%d %H:%M:%S') (type=value_error)\n",
    "# \"\"\"\n",
    "dt = tconf.compute_parameters.restart_parameters.start_datetime \n",
    "tconf.compute_parameters.restart_parameters.start_datetime  = datetime.strftime(dt, '%Y-%m-%d %H:%M:%S')\n"
   ]
  },
  {
   "cell_type": "code",
   "execution_count": 15,
   "id": "de4fc494-a480-408f-94c0-e58315b6523a",
   "metadata": {},
   "outputs": [],
   "source": [
    "from pydantic_yaml import to_yaml_str\n",
    "\n",
    "with open(config_dir/\"ngen.yaml\", \"w\") as f:\n",
    "    f.write(to_yaml_str(tconf, by_alias=True, exclude_none=True, sort_keys=False))"
   ]
  },
  {
   "cell_type": "code",
   "execution_count": null,
   "id": "31d7b28c-fee7-482c-9fd8-bb022e5cf958",
   "metadata": {},
   "outputs": [],
   "source": []
  },
  {
   "cell_type": "code",
   "execution_count": 9,
   "id": "e9fcec86-fa82-407c-ac53-e6cde8505a53",
   "metadata": {},
   "outputs": [],
   "source": [
    "data_assimilation_parameters = tconf.compute_parameters.dict().get('data_assimilation_parameters',{})"
   ]
  },
  {
   "cell_type": "code",
   "execution_count": null,
   "id": "b16fcc98-1852-4168-8b0d-97b0e8f02a15",
   "metadata": {},
   "outputs": [],
   "source": []
  },
  {
   "cell_type": "markdown",
   "id": "b6bc0f3e-bd05-48ff-bff3-1a6aaa0c0aff",
   "metadata": {},
   "source": [
    "## Generate CFE Config"
   ]
  },
  {
   "cell_type": "code",
   "execution_count": 11,
   "id": "fe1c5dfc-7414-4f4b-aeac-cd96526d5323",
   "metadata": {},
   "outputs": [
    {
     "name": "stdout",
     "output_type": "stream",
     "text": [
      "INFO:cfe_realization_generator:writing catchment config files (*.ini)\n",
      "DEBUG:cfe_realization_generator:Creating global realization\n",
      "INFO:cfe_realization_generator:Created global realization\n",
      "DEBUG:cfe_realization_generator:create_default_cfe_realization completed successfully\n",
      "DEBUG:cfe_realization_generator:CFE Init Configs: data/config/[cat-id]_config.ini\n",
      "DEBUG:cfe_realization_generator:Realization JSON: data/config/realization.json\n"
     ]
    },
    {
     "data": {
      "text/plain": [
       "True"
      ]
     },
     "execution_count": 11,
     "metadata": {},
     "output_type": "execute_result"
    }
   ],
   "source": [
    "cfe_realization_generator.create_global_cfe_realization(domain_dir/\"cfe_noahowp_attributes.csv\",\n",
    "                                                         st,\n",
    "                                                         et,\n",
    "                                                         forcing_dir,\n",
    "                                                         config_dir)\n"
   ]
  },
  {
   "cell_type": "code",
   "execution_count": 12,
   "id": "e694e5eb-921e-44b5-978c-3af12d6ea08e",
   "metadata": {},
   "outputs": [
    {
     "name": "stdout",
     "output_type": "stream",
     "text": [
      "Number of Forcing Files: 250\n",
      "Number of Config Files : 250\n"
     ]
    }
   ],
   "source": [
    "# DEBUGGING: check that the number of configs matches the number of forcing files\n",
    "print(f'Number of Forcing Files: {len(list(forcing_dir.glob(\"*.csv\")))}')\n",
    "print(f'Number of Config Files : {len(list(config_dir.glob(\"*.ini\")))}')"
   ]
  },
  {
   "cell_type": "code",
   "execution_count": null,
   "id": "11f6b591-0268-42bf-a293-f92fbec86a66",
   "metadata": {},
   "outputs": [],
   "source": []
  }
 ],
 "metadata": {
  "kernelspec": {
   "display_name": "Python 3 (ipykernel)",
   "language": "python",
   "name": "python3"
  },
  "language_info": {
   "codemirror_mode": {
    "name": "ipython",
    "version": 3
   },
   "file_extension": ".py",
   "mimetype": "text/x-python",
   "name": "python",
   "nbconvert_exporter": "python",
   "pygments_lexer": "ipython3",
   "version": "3.12.0"
  }
 },
 "nbformat": 4,
 "nbformat_minor": 5
}
