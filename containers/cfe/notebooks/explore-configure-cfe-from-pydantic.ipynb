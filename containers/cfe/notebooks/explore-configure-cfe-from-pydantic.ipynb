{
 "cells": [
  {
   "cell_type": "markdown",
   "id": "cbd750b5-0664-46a1-b18d-41384810eb77",
   "metadata": {},
   "source": [
    "# Configure CFE using NGEN-CAL Pydantic Classes"
   ]
  },
  {
   "cell_type": "code",
   "execution_count": 8,
   "id": "17881c90-1f24-4b09-9f67-8b098a5b916d",
   "metadata": {},
   "outputs": [],
   "source": [
    "import json\n",
    "from pathlib import Path"
   ]
  },
  {
   "cell_type": "code",
   "execution_count": 9,
   "id": "1b86a172-6f7d-4ad6-a237-eb2e6ec35fd7",
   "metadata": {},
   "outputs": [],
   "source": [
    "from ngen.config.init_config import cfe as cfe_init\n",
    "from ngen.config import formulation, cfe, sloth, multi, configurations"
   ]
  },
  {
   "cell_type": "markdown",
   "id": "6165ffac-33d6-4476-8b7c-54bb16d145e1",
   "metadata": {},
   "source": [
    "## Function for parsing CFE parameters from noahowp attributes"
   ]
  },
  {
   "cell_type": "markdown",
   "id": "31585f2d-0dac-4a10-bf93-232c32d4585f",
   "metadata": {},
   "source": [
    "\n",
    "def parse_cfe_parameters(\n",
    "    cfe_noahowp_attributes: pandas.DataFrame,\n",
    ") -> typing.Dict[str, dict]:\n",
    "    \"\"\"\n",
    "    Parses parameters from NOAHOWP_CFE DataFrame\n",
    "\n",
    "    Parameters\n",
    "    ----------\n",
    "    cfe_noahowp_attributes: pandas.DataFrame\n",
    "        Dataframe of NoahOWP CFE parameters\n",
    "\n",
    "    Returns\n",
    "    -------\n",
    "    Dict[str, dict]: parsed CFE parameters\n"
   ]
  },
  {
   "cell_type": "code",
   "execution_count": 10,
   "id": "bb56174b-dc1e-418d-9b63-5bf31c2151cb",
   "metadata": {},
   "outputs": [],
   "source": [
    "from collections import OrderedDict\n",
    "import pandas\n",
    "import typing"
   ]
  },
  {
   "cell_type": "code",
   "execution_count": 4,
   "id": "1e3037c6-0738-400f-a6f2-52afa238b6fe",
   "metadata": {
    "jupyter": {
     "source_hidden": true
    }
   },
   "outputs": [],
   "source": [
    "def parse_cfe_parameters(\n",
    "    cfe_noahowp_attributes: pandas.DataFrame,\n",
    ") -> typing.Dict[str, dict]:\n",
    "    \"\"\"\n",
    "    Parses parameters from NOAHOWP_CFE DataFrame\n",
    "\n",
    "    Parameters\n",
    "    ----------\n",
    "    cfe_noahowp_attributes: pandas.DataFrame\n",
    "        Dataframe of NoahOWP CFE parameters\n",
    "\n",
    "    Returns\n",
    "    -------\n",
    "    Dict[str, dict]: parsed CFE parameters\n",
    "\n",
    "    \"\"\"\n",
    "    catchment_configs = {}\n",
    "    for idx, row in cfe_noahowp_attributes.iterrows():\n",
    "        d = OrderedDict()\n",
    "\n",
    "        # static parameters\n",
    "        d[\"forcing_file\"] = \"BMI\"\n",
    "        d[\"surface_partitioning_scheme\"] = \"Schaake\"\n",
    "\n",
    "        # ----------------\n",
    "        # State Parameters\n",
    "        # ----------------\n",
    "\n",
    "        # soil depth\n",
    "        d[\"soil_params.depth\"] = \"2.0[m]\"\n",
    "\n",
    "        # many of these values are taken from the 2m depth in hydrofabrics cfe_noahowp_attributes\n",
    "        d[\n",
    "            \"soil_params.b\"\n",
    "        ] = f'{row[\"bexp_soil_layers_stag=2\"]}[]'  # \tbeta exponent on Clapp-Hornberger (1978) soil water relations\n",
    "\n",
    "        # saturated hydraulic conductivity\n",
    "        d[\"soil_params.satdk\"] = f'{row[\"dksat_soil_layers_stag=2\"]}[m s-1]'\n",
    "\n",
    "        # saturated capillary head\n",
    "        d[\"soil_params.satpsi\"] = f'{row[\"psisat_soil_layers_stag=2\"]}[m]'\n",
    "\n",
    "        # this factor (0-1) modifies the gradient of the hydraulic head at the soil bottom. 0=no-flow.\n",
    "        d[\"soil_params.slop\"] = f'{row[\"slope\"]}[m/m]'\n",
    "\n",
    "        # saturated soil moisture content\n",
    "        d[\"soil_params.smcmax\"] = f'{row[\"smcmax_soil_layers_stag=2\"]}[m/m]'\n",
    "\n",
    "        # wilting point soil moisture content\n",
    "        d[\"soil_params.wltsmc\"] = f'{row[\"smcwlt_soil_layers_stag=2\"]}[m/m]'\n",
    "\n",
    "        # ---------------------\n",
    "        # Adjustable Parameters\n",
    "        # ---------------------\n",
    "\n",
    "        # optional; defaults to 1.0\n",
    "        d[\"soil_params.expon\"] = (\n",
    "            f'{row[\"gw_Expon\"]}[]' if row[\"gw_Expon\"] is not None else \"1.0[]\"\n",
    "        )\n",
    "\n",
    "        # optional; defaults to 1.0\n",
    "        # not sure if this is the correct key\n",
    "        d[\"soil_params.expon_secondary\"] = (\n",
    "            f'{row[\"gw_Coeff\"]}[]' if row[\"gw_Coeff\"] is not None else \"1.0[]\"\n",
    "        )\n",
    "\n",
    "        # maximum storage in the conceptual reservoir\n",
    "        d[\"max_gw_storage\"] = (\n",
    "            f'{row[\"gw_Zmax\"]}[m]' if row[\"gw_Zmax\"] is not None else \"0.011[m]\"\n",
    "        )\n",
    "\n",
    "        # primary outlet coefficient\n",
    "        d[\"Cgw\"] = \"0.0018[m h-1]\"\n",
    "\n",
    "        # exponent parameter (1.0 for linear reservoir)\n",
    "        d[\"expon\"] = \"6.0[]\"\n",
    "\n",
    "        # initial condition for groundwater reservoir - it is the ground water as a\n",
    "        # decimal fraction of the maximum groundwater storage (max_gw_storage) for the initial timestep\n",
    "        d[\"gw_storage\"] = \"0.05[m/m]\"\n",
    "\n",
    "        # field capacity\n",
    "        d[\"alpha_fc\"] = \"0.33[]\"\n",
    "\n",
    "        # initial condition for soil reservoir - it is the water in the soil as a\n",
    "        # decimal fraction of maximum soil water storage (smcmax * depth) for the initial timestep\n",
    "        d[\"soil_storage\"] = \"0.05[m/m]\"\n",
    "\n",
    "        # number of Nash lf reservoirs (optional, defaults to 2, ignored if storage values present)\n",
    "        d[\"K_nash\"] = \"0.03[]\"\n",
    "\n",
    "        # Nash Config param - primary reservoir\n",
    "        d[\"K_lf\"] = \"0.01[]\"\n",
    "\n",
    "        # Nash Config param - secondary reservoir\n",
    "        d[\"nash_storage\"] = \"0.0,0.0\"\n",
    "\n",
    "        # Giuh ordinates in dt time steps\n",
    "        d[\"giuh_ordinates\"] = \"1.00,0.00\"\n",
    "\n",
    "        # ---------------------\n",
    "        # Time Info\n",
    "        # ---------------------\n",
    "\n",
    "        # set to 1 if forcing_file=BMI\n",
    "        d[\"num_timesteps\"] = \"1\"\n",
    "\n",
    "        # ---------------------\n",
    "        # Options\n",
    "        # ---------------------\n",
    "\n",
    "        # prints various debug and bmi info\n",
    "        d[\"verbosity\"] = \"0\"\n",
    "\n",
    "        d[\"DEBUG\"] = \"0\"\n",
    "\n",
    "        # Parameter in the surface runoff parameterization\n",
    "        # (https://mikejohnson51.github.io/hyAggregate/#Routing_Attributes)\n",
    "        d[\"refkdt\"] = f'{row[\"refkdt\"]}'\n",
    "\n",
    "        catchment_configs[row.divide_id] = d\n",
    "\n",
    "    return catchment_configs\n"
   ]
  },
  {
   "cell_type": "markdown",
   "id": "de15792c-8244-4e65-bc6f-760f67f455d4",
   "metadata": {},
   "source": [
    "## Create CFE Config"
   ]
  },
  {
   "cell_type": "code",
   "execution_count": 5,
   "id": "7a2c814d-e698-4b6a-a089-e7f599d455df",
   "metadata": {},
   "outputs": [],
   "source": [
    "noah_params_path = Path('../test-data/test-small/domain/cfe_noahowp_attributes.csv')\n",
    "df_noah_params = pandas.read_csv(noah_params_path)\n",
    "catchment_configs = parse_cfe_parameters(df_noah_params)"
   ]
  },
  {
   "cell_type": "code",
   "execution_count": 6,
   "id": "f731267c-5385-414e-95d8-d0bbe38cb8ff",
   "metadata": {},
   "outputs": [
    {
     "data": {
      "text/plain": [
       "OrderedDict([('forcing_file', 'BMI'),\n",
       "             ('surface_partitioning_scheme', 'Schaake'),\n",
       "             ('soil_params.depth', '2.0[m]'),\n",
       "             ('soil_params.b', '2.3282833099365234[]'),\n",
       "             ('soil_params.satdk', '3.308438783921123e-07[m s-1]'),\n",
       "             ('soil_params.satpsi', '0.0715057436219558[m]'),\n",
       "             ('soil_params.slop', '0.3748068213462829[m/m]'),\n",
       "             ('soil_params.smcmax', '0.5200302004814148[m/m]'),\n",
       "             ('soil_params.wltsmc', '0.0469999983906745[m/m]'),\n",
       "             ('soil_params.expon', '1.0[]'),\n",
       "             ('soil_params.expon_secondary', '0.005[]'),\n",
       "             ('max_gw_storage', '122.64931488[m]'),\n",
       "             ('Cgw', '0.0018[m h-1]'),\n",
       "             ('expon', '6.0[]'),\n",
       "             ('gw_storage', '0.05[m/m]'),\n",
       "             ('alpha_fc', '0.33[]'),\n",
       "             ('soil_storage', '0.05[m/m]'),\n",
       "             ('K_nash', '0.03[]'),\n",
       "             ('K_lf', '0.01[]'),\n",
       "             ('nash_storage', '0.0,0.0'),\n",
       "             ('giuh_ordinates', '1.00,0.00'),\n",
       "             ('num_timesteps', '1'),\n",
       "             ('verbosity', '0'),\n",
       "             ('DEBUG', '0'),\n",
       "             ('refkdt', '2.613785982131958')])"
      ]
     },
     "execution_count": 6,
     "metadata": {},
     "output_type": "execute_result"
    }
   ],
   "source": [
    "# work with a single catchment\n",
    "cat_id = 'cat-2918021'\n",
    "\n",
    "# load noah data for this catchment\n",
    "cat_dict = catchment_configs[cat_id]\n",
    "\n",
    "cat_dict"
   ]
  },
  {
   "cell_type": "code",
   "execution_count": 7,
   "id": "047f93ed-79af-422a-8aec-2e2e5bb52123",
   "metadata": {},
   "outputs": [],
   "source": [
    "# create CFE object from these data\n",
    "cfe_conf_base = cfe_init.CFEBase(\n",
    "    **cat_dict\n",
    ")"
   ]
  },
  {
   "cell_type": "code",
   "execution_count": 10,
   "id": "967b3c44-a289-484a-8fc5-b67f4983a75c",
   "metadata": {},
   "outputs": [
    {
     "data": {
      "text/plain": [
       "False"
      ]
     },
     "execution_count": 10,
     "metadata": {},
     "output_type": "execute_result"
    }
   ],
   "source": [
    "cfe_conf_base.Config.preserve_key_case"
   ]
  },
  {
   "cell_type": "code",
   "execution_count": 9,
   "id": "ff8612d9-6a24-4ea1-b433-8d1d5c3f8351",
   "metadata": {},
   "outputs": [
    {
     "data": {
      "text/plain": [
       "'{\"forcing_file\": \"BMI\", \"soil_params_depth\": \"2.0[m]\", \"soil_params_b\": \"2.3282833099365234[]\", \"soil_params_satdk\": \"3.308438783921123e-07[m s-1]\", \"soil_params_satpsi\": \"0.0715057436219558[m]\", \"soil_params_slop\": \"0.3748068213462829[m/m]\", \"soil_params_smcmax\": \"0.5200302004814148[m/m]\", \"soil_params_wltsmc\": \"0.0469999983906745[m/m]\", \"refkdt\": 2.613785982131958, \"soil_params_expon\": \"1.0[]\", \"soil_params_expon_secondary\": \"0.005[]\", \"max_gw_storage\": \"122.64931488[m]\", \"cgw\": \"0.0018[m h-1]\", \"expon\": \"6.0[]\", \"gw_storage\": \"0.05[m/m]\", \"alpha_fc\": \"0.33[]\", \"soil_storage\": \"0.05[m/m]\", \"k_nash\": \"0.03[]\", \"k_lf\": \"0.01[]\", \"nash_storage\": \"0.0,0.0\", \"giuh_ordinates\": \"1.0,0.0\", \"num_timesteps\": 1, \"verbosity\": 0, \"surface_partitioning_scheme\": \"Schaake\"}'"
      ]
     },
     "execution_count": 9,
     "metadata": {},
     "output_type": "execute_result"
    }
   ],
   "source": [
    "cfe_conf_base.json()"
   ]
  },
  {
   "cell_type": "code",
   "execution_count": null,
   "id": "8f87b60a-2824-4abb-92c0-3e4868accc64",
   "metadata": {},
   "outputs": [],
   "source": []
  },
  {
   "cell_type": "code",
   "execution_count": 15,
   "id": "7d516d9f-f710-49bb-976d-49d6b0578e2d",
   "metadata": {},
   "outputs": [
    {
     "name": "stdout",
     "output_type": "stream",
     "text": [
      "forcing_file=BMI\n",
      "soil_params.depth=2.0[m]\n",
      "soil_params.b=2.3282833099365234[]\n",
      "soil_params.satdk=3.308438783921123e-07[m s-1]\n",
      "soil_params.satpsi=0.0715057436219558[m]\n",
      "soil_params.slop=0.3748068213462829[m/m]\n",
      "soil_params.smcmax=0.5200302004814148[m/m]\n",
      "soil_params.wltsmc=0.0469999983906745[m/m]\n",
      "refkdt=2.613785982131958\n",
      "soil_params.expon=1.0[]\n",
      "soil_params.expon_secondary=0.005[]\n",
      "max_gw_storage=122.64931488[m]\n",
      "Cgw=0.0018[m h-1]\n",
      "expon=6.0[]\n",
      "gw_storage=0.05[m/m]\n",
      "alpha_fc=0.33[]\n",
      "soil_storage=0.05[m/m]\n",
      "K_nash=0.03[]\n",
      "K_lf=0.01[]\n",
      "nash_storage=0.0,0.0\n",
      "giuh_ordinates=1.0,0.0\n",
      "num_timesteps=1\n",
      "verbosity=0\n",
      "surface_partitioning_scheme=Schaake\n"
     ]
    }
   ],
   "source": [
    "cfe_conf_base.Config.no_section_headers=True\n",
    "cfe_conf_base.Config.space_around_delimiters=False\n",
    "cfe_conf_base.Config.preserve_key_case=True\n",
    "print(cfe_conf_base.to_ini_str())\n"
   ]
  },
  {
   "cell_type": "code",
   "execution_count": 11,
   "id": "7bb07209-7326-4ade-b366-ee05563af33e",
   "metadata": {},
   "outputs": [
    {
     "name": "stdout",
     "output_type": "stream",
     "text": [
      "{\n",
      "    \"forcing_file\": \"BMI\",\n",
      "    \"soil_params.depth\": \"2.0[m]\",\n",
      "    \"soil_params.b\": \"2.3282833099365234[]\",\n",
      "    \"soil_params.satdk\": \"3.308438783921123e-07[m s-1]\",\n",
      "    \"soil_params.satpsi\": \"0.0715057436219558[m]\",\n",
      "    \"soil_params.slop\": \"0.3748068213462829[m/m]\",\n",
      "    \"soil_params.smcmax\": \"0.5200302004814148[m/m]\",\n",
      "    \"soil_params.wltsmc\": \"0.0469999983906745[m/m]\",\n",
      "    \"refkdt\": 2.613785982131958,\n",
      "    \"soil_params.expon\": \"1.0[]\",\n",
      "    \"soil_params.expon_secondary\": \"0.005[]\",\n",
      "    \"max_gw_storage\": \"122.64931488[m]\",\n",
      "    \"Cgw\": \"0.0018[m h-1]\",\n",
      "    \"expon\": \"6.0[]\",\n",
      "    \"gw_storage\": \"0.05[m/m]\",\n",
      "    \"alpha_fc\": \"0.33[]\",\n",
      "    \"soil_storage\": \"0.05[m/m]\",\n",
      "    \"K_nash\": \"0.03[]\",\n",
      "    \"K_lf\": \"0.01[]\",\n",
      "    \"nash_storage\": \"0.0,0.0\",\n",
      "    \"giuh_ordinates\": \"1.0,0.0\",\n",
      "    \"num_timesteps\": 1,\n",
      "    \"verbosity\": 0,\n",
      "    \"surface_partitioning_scheme\": \"Schaake\"\n",
      "}\n"
     ]
    }
   ],
   "source": [
    "print(cfe_conf_base.json(by_alias=True, indent=4))"
   ]
  },
  {
   "cell_type": "code",
   "execution_count": 13,
   "id": "012d00ca-7baf-4934-b233-462a4be45bb3",
   "metadata": {},
   "outputs": [
    {
     "name": "stdout",
     "output_type": "stream",
     "text": [
      "{\n",
      "    \"forcing_file\": \"BMI\",\n",
      "    \"soil_params_depth\": \"2.0[m]\",\n",
      "    \"soil_params_b\": \"2.3282833099365234[]\",\n",
      "    \"soil_params_satdk\": \"3.308438783921123e-07[m s-1]\",\n",
      "    \"soil_params_satpsi\": \"0.0715057436219558[m]\",\n",
      "    \"soil_params_slop\": \"0.3748068213462829[m/m]\",\n",
      "    \"soil_params_smcmax\": \"0.5200302004814148[m/m]\",\n",
      "    \"soil_params_wltsmc\": \"0.0469999983906745[m/m]\",\n",
      "    \"refkdt\": 2.613785982131958,\n",
      "    \"soil_params_expon\": \"1.0[]\",\n",
      "    \"soil_params_expon_secondary\": \"0.005[]\",\n",
      "    \"max_gw_storage\": \"122.64931488[m]\",\n",
      "    \"cgw\": \"0.0018[m h-1]\",\n",
      "    \"expon\": \"6.0[]\",\n",
      "    \"gw_storage\": \"0.05[m/m]\",\n",
      "    \"alpha_fc\": \"0.33[]\",\n",
      "    \"soil_storage\": \"0.05[m/m]\",\n",
      "    \"k_nash\": \"0.03[]\",\n",
      "    \"k_lf\": \"0.01[]\",\n",
      "    \"nash_storage\": \"0.0,0.0\",\n",
      "    \"giuh_ordinates\": \"1.0,0.0\",\n",
      "    \"num_timesteps\": 1,\n",
      "    \"verbosity\": 0,\n",
      "    \"surface_partitioning_scheme\": \"Schaake\"\n",
      "}\n"
     ]
    }
   ],
   "source": [
    "print(cfe_conf_base.json(indent=4))"
   ]
  },
  {
   "cell_type": "markdown",
   "id": "c59f25e2-2a63-410c-9b0c-71a65be1df84",
   "metadata": {},
   "source": [
    "## Create Formulations"
   ]
  },
  {
   "cell_type": "markdown",
   "id": "d4049c5a-9407-4138-b7b0-53d8bc10e0da",
   "metadata": {},
   "source": [
    "### CFE"
   ]
  },
  {
   "cell_type": "code",
   "execution_count": 33,
   "id": "87ec06dd-5b03-4602-abeb-a1f12058386d",
   "metadata": {},
   "outputs": [],
   "source": [
    "params = dict(name='bmi_c',\n",
    "              init_config='test.ini', # replace\n",
    "              library_file='/dmod/shared_libs/libcfebmi.so.1.0.0',\n",
    "              allow_exceed_end_time = True,\n",
    "              fixed_time_step = False,\n",
    "              uses_forcing_file = True,\n",
    "              forcing_file= '/ngen/data/forcing/cat-2918021.csv',  # replace\n",
    "              variables_names_map = {\"atmosphere_water__liquid_equivalent_precipitation_rate\": \"precip_rate\",\n",
    "                                     \"water_potential_evaporation_flux\": \"EVAPOTRANS\",\n",
    "                                     \"ice_fraction_schaake\": \"sloth_ice_fraction_schaake\",\n",
    "                                     \"ice_fraction_xinan\": \"sloth_ice_fraction_xinan\",\n",
    "                                     \"soil_moisture_profile\": \"sloth_smp\"},\n",
    "             )\n",
    "              "
   ]
  },
  {
   "cell_type": "code",
   "execution_count": 34,
   "id": "4f0ac767-9c2a-4c81-9f81-452b26cadac5",
   "metadata": {},
   "outputs": [],
   "source": [
    "c = cfe.CFE(**params)\n",
    "f = {'params': c, 'name':'bmi_c'}\n",
    "cfe_formulation = formulation.Formulation(**f)"
   ]
  },
  {
   "cell_type": "code",
   "execution_count": 35,
   "id": "d411017e-6629-4a04-8677-5ca48f38fca9",
   "metadata": {},
   "outputs": [
    {
     "name": "stdout",
     "output_type": "stream",
     "text": [
      "{\n",
      "    \"name\": \"bmi_c\",\n",
      "    \"params\": {\n",
      "        \"name\": \"bmi_c\",\n",
      "        \"model_type_name\": \"CFE\",\n",
      "        \"main_output_variable\": \"Q_OUT\",\n",
      "        \"init_config\": \"test.ini\",\n",
      "        \"allow_exceed_end_time\": true,\n",
      "        \"fixed_time_step\": false,\n",
      "        \"uses_forcing_file\": true,\n",
      "        \"variables_names_map\": {\n",
      "            \"atmosphere_water__liquid_equivalent_precipitation_rate\": \"precip_rate\",\n",
      "            \"water_potential_evaporation_flux\": \"EVAPOTRANS\",\n",
      "            \"ice_fraction_schaake\": \"sloth_ice_fraction_schaake\",\n",
      "            \"ice_fraction_xinan\": \"sloth_ice_fraction_xinan\",\n",
      "            \"soil_moisture_profile\": \"sloth_smp\"\n",
      "        },\n",
      "        \"library_file\": \"/dmod/shared_libs/libcfebmi.so.1.0.0\",\n",
      "        \"registration_function\": \"register_bmi_cfe\"\n",
      "    }\n",
      "}\n"
     ]
    }
   ],
   "source": [
    "print(cfe_formulation.json(by_alias=True, exclude_none=True, indent=4))"
   ]
  },
  {
   "cell_type": "markdown",
   "id": "ae42eec6-bd10-4bfa-b099-43bec0e37cef",
   "metadata": {},
   "source": [
    "### SLOTH"
   ]
  },
  {
   "cell_type": "code",
   "execution_count": 36,
   "id": "5b0e68f2-dd57-468e-b54e-e5494507d4b5",
   "metadata": {},
   "outputs": [],
   "source": [
    "params = dict(name='bmi_c++',\n",
    "              main_output_variable = \"z\",\n",
    "              init_config = \"/dev/null\",\n",
    "              allow_exceed_end_time = True,\n",
    "              fixed_time_step = False,\n",
    "              uses_forcing_file = False,\n",
    "              model_params = {\"sloth_ice_fraction_schaake(1,double,m,node)\": \"0.0\",\n",
    "                              \"sloth_ice_fraction_xinan(1,double,1,node)\": \"0.0\",\n",
    "                              \"sloth_smp(1,double,1,node)\": \"0.0\",\n",
    "                              \"EVAPOTRANS\": \"0.0\"},\n",
    "              library_file = \"/dmod/shared_libs/libslothmodel.so\",\n",
    "             )"
   ]
  },
  {
   "cell_type": "code",
   "execution_count": 37,
   "id": "7a9b11e6-f810-4129-8bbd-a7e11b2d94ae",
   "metadata": {},
   "outputs": [],
   "source": [
    "s = sloth.SLOTH(**params)\n",
    "f = {'params': s, 'name':'bmi_c++'}\n",
    "sloth_formulation = formulation.Formulation(**f)"
   ]
  },
  {
   "cell_type": "code",
   "execution_count": 38,
   "id": "be58312b-f9b0-49d4-a2ed-3aa21574a851",
   "metadata": {},
   "outputs": [
    {
     "name": "stdout",
     "output_type": "stream",
     "text": [
      "{\n",
      "    \"name\": \"bmi_c++\",\n",
      "    \"params\": {\n",
      "        \"name\": \"bmi_c++\",\n",
      "        \"model_type_name\": \"SLOTH\",\n",
      "        \"main_output_variable\": \"z\",\n",
      "        \"init_config\": \"/dev/null\",\n",
      "        \"allow_exceed_end_time\": true,\n",
      "        \"fixed_time_step\": false,\n",
      "        \"uses_forcing_file\": false,\n",
      "        \"model_params\": {\n",
      "            \"sloth_ice_fraction_schaake(1,double,m,node)\": \"0.0\",\n",
      "            \"sloth_ice_fraction_xinan(1,double,1,node)\": \"0.0\",\n",
      "            \"sloth_smp(1,double,1,node)\": \"0.0\",\n",
      "            \"EVAPOTRANS\": \"0.0\"\n",
      "        },\n",
      "        \"library_file\": \"/dmod/shared_libs/libslothmodel.so\",\n",
      "        \"registration_function\": \"none\"\n",
      "    }\n",
      "}\n"
     ]
    }
   ],
   "source": [
    "print(sloth_formulation.json(by_alias=True, exclude_none=True, indent=4))"
   ]
  },
  {
   "cell_type": "markdown",
   "id": "545c8c95-b06a-44a6-a84d-18ca7eccc623",
   "metadata": {},
   "source": [
    "### BMI-MULTI"
   ]
  },
  {
   "cell_type": "code",
   "execution_count": 39,
   "id": "94d0643d-7896-41e3-b02a-05a5c9d25e53",
   "metadata": {},
   "outputs": [],
   "source": [
    "params = dict(name='bmi_multi',\n",
    "              main_output_variable = \"Q_OUT\",\n",
    "              init_config = \"\",\n",
    "              allow_exceed_end_time = True,\n",
    "              fixed_time_step = False,\n",
    "              uses_forcing_file = False,\n",
    "              modules = [sloth_formulation, cfe_formulation],\n",
    "             )"
   ]
  },
  {
   "cell_type": "code",
   "execution_count": 40,
   "id": "2d64f003-2e13-4fbe-849c-66e1b89af26a",
   "metadata": {},
   "outputs": [],
   "source": [
    "m = multi.MultiBMI(**params)"
   ]
  },
  {
   "cell_type": "code",
   "execution_count": 41,
   "id": "a1e4adfa-3813-4024-82a7-493c36365c18",
   "metadata": {},
   "outputs": [],
   "source": [
    "f = {'params': m, 'name':m.name}\n",
    "multi_formulation = formulation.Formulation(**f)"
   ]
  },
  {
   "cell_type": "code",
   "execution_count": 43,
   "id": "2977d055-2c5b-4af8-af9b-fb1af3e97dee",
   "metadata": {},
   "outputs": [
    {
     "name": "stdout",
     "output_type": "stream",
     "text": [
      "{\n",
      "    \"name\": \"bmi_multi\",\n",
      "    \"params\": {\n",
      "        \"name\": \"bmi_multi\",\n",
      "        \"model_type_name\": \"SLOTH_CFE\",\n",
      "        \"main_output_variable\": \"Q_OUT\",\n",
      "        \"init_config\": \"\",\n",
      "        \"allow_exceed_end_time\": true,\n",
      "        \"fixed_time_step\": false,\n",
      "        \"uses_forcing_file\": false,\n",
      "        \"modules\": [\n",
      "            {\n",
      "                \"name\": \"bmi_c++\",\n",
      "                \"params\": {\n",
      "                    \"name\": \"bmi_c++\",\n",
      "                    \"model_type_name\": \"SLOTH\",\n",
      "                    \"main_output_variable\": \"z\",\n",
      "                    \"init_config\": \"/dev/null\",\n",
      "                    \"allow_exceed_end_time\": true,\n",
      "                    \"fixed_time_step\": false,\n",
      "                    \"uses_forcing_file\": false,\n",
      "                    \"model_params\": {\n",
      "                        \"sloth_ice_fraction_schaake(1,double,m,node)\": \"0.0\",\n",
      "                        \"sloth_ice_fraction_xinan(1,double,1,node)\": \"0.0\",\n",
      "                        \"sloth_smp(1,double,1,node)\": \"0.0\",\n",
      "                        \"EVAPOTRANS\": \"0.0\"\n",
      "                    },\n",
      "                    \"library_file\": \"/dmod/shared_libs/libslothmodel.so\",\n",
      "                    \"registration_function\": \"none\"\n",
      "                }\n",
      "            },\n",
      "            {\n",
      "                \"name\": \"bmi_c\",\n",
      "                \"params\": {\n",
      "                    \"name\": \"bmi_c\",\n",
      "                    \"model_type_name\": \"CFE\",\n",
      "                    \"main_output_variable\": \"Q_OUT\",\n",
      "                    \"init_config\": \"test.ini\",\n",
      "                    \"allow_exceed_end_time\": true,\n",
      "                    \"fixed_time_step\": false,\n",
      "                    \"uses_forcing_file\": true,\n",
      "                    \"variables_names_map\": {\n",
      "                        \"atmosphere_water__liquid_equivalent_precipitation_rate\": \"precip_rate\",\n",
      "                        \"water_potential_evaporation_flux\": \"EVAPOTRANS\",\n",
      "                        \"ice_fraction_schaake\": \"sloth_ice_fraction_schaake\",\n",
      "                        \"ice_fraction_xinan\": \"sloth_ice_fraction_xinan\",\n",
      "                        \"soil_moisture_profile\": \"sloth_smp\"\n",
      "                    },\n",
      "                    \"library_file\": \"/dmod/shared_libs/libcfebmi.so.1.0.0\",\n",
      "                    \"registration_function\": \"register_bmi_cfe\"\n",
      "                }\n",
      "            }\n",
      "        ]\n",
      "    }\n",
      "}\n"
     ]
    }
   ],
   "source": [
    "print(multi_formulation.json(by_alias=True, exclude_none=True, indent=4))"
   ]
  },
  {
   "cell_type": "markdown",
   "id": "26d1f949-6723-4a21-82b3-dd8913a14f48",
   "metadata": {},
   "source": [
    "### Forcing"
   ]
  },
  {
   "cell_type": "code",
   "execution_count": 20,
   "id": "843c3e4a-7399-4896-9499-20221ca81133",
   "metadata": {},
   "outputs": [],
   "source": [
    "forcing_path = Path('../extra/old stuff/working-example/forcings')\n",
    "provider = configurations.Forcing.Provider.CSV\n",
    "forcing = configurations.Forcing(file_pattern=\".*{{id}}.*.csv\", path=forcing_path, provider=provider)"
   ]
  },
  {
   "cell_type": "code",
   "execution_count": 21,
   "id": "5552a59a-eea3-4fbe-a3d9-72330f90fa63",
   "metadata": {},
   "outputs": [
    {
     "data": {
      "text/plain": [
       "Forcing(file_pattern='.*{{id}}.*.csv', path=PosixPath('../extra/old stuff/working-example/forcings'), provider=<Provider.CSV: 'CsvPerFeature'>)"
      ]
     },
     "execution_count": 21,
     "metadata": {},
     "output_type": "execute_result"
    }
   ],
   "source": [
    "forcing"
   ]
  },
  {
   "cell_type": "markdown",
   "id": "574da01a-d480-41f0-89c0-16d031d7faf6",
   "metadata": {},
   "source": [
    "### Realization"
   ]
  },
  {
   "cell_type": "code",
   "execution_count": 22,
   "id": "604bf825-699b-44f1-a0c9-f2d688c0b520",
   "metadata": {},
   "outputs": [],
   "source": [
    "from ngen.config.realization import Realization"
   ]
  },
  {
   "cell_type": "code",
   "execution_count": 23,
   "id": "8e7746af-95c4-4cac-9445-ffec2e26b4eb",
   "metadata": {},
   "outputs": [],
   "source": [
    "r = Realization(formulations=[multi_formulation], forcing=forcing)"
   ]
  },
  {
   "cell_type": "code",
   "execution_count": 24,
   "id": "677d59af-4e17-4396-9df0-7cef1a08fbf8",
   "metadata": {},
   "outputs": [
    {
     "name": "stdout",
     "output_type": "stream",
     "text": [
      "{\n",
      "    \"formulations\": [\n",
      "        {\n",
      "            \"name\": \"bmi_multi\",\n",
      "            \"params\": {\n",
      "                \"name\": \"bmi_multi\",\n",
      "                \"model_name\": \"SLOTH_CFE\",\n",
      "                \"main_output_variable\": \"Q_OUT\",\n",
      "                \"config\": \"\",\n",
      "                \"allow_exceed_end_time\": true,\n",
      "                \"fixed_time_step\": false,\n",
      "                \"uses_forcing_file\": false,\n",
      "                \"name_map\": null,\n",
      "                \"output_vars\": null,\n",
      "                \"output_headers\": null,\n",
      "                \"model_params\": null,\n",
      "                \"modules\": [\n",
      "                    {\n",
      "                        \"name\": \"bmi_c++\",\n",
      "                        \"params\": {\n",
      "                            \"name\": \"bmi_c++\",\n",
      "                            \"model_name\": \"SLOTH\",\n",
      "                            \"main_output_variable\": \"z\",\n",
      "                            \"config\": \"/dev/null\",\n",
      "                            \"allow_exceed_end_time\": true,\n",
      "                            \"fixed_time_step\": false,\n",
      "                            \"uses_forcing_file\": false,\n",
      "                            \"name_map\": null,\n",
      "                            \"output_vars\": null,\n",
      "                            \"output_headers\": null,\n",
      "                            \"model_params\": {\n",
      "                                \"sloth_ice_fraction_schaake(1,double,m,node)\": \"0.0\",\n",
      "                                \"sloth_ice_fraction_xinan(1,double,1,node)\": \"0.0\",\n",
      "                                \"sloth_smp(1,double,1,node)\": \"0.0\",\n",
      "                                \"EVAPOTRANS\": \"0.0\"\n",
      "                            },\n",
      "                            \"library\": \"/dmod/shared_libs/libslothmodel.so\",\n",
      "                            \"registration_function\": \"none\"\n",
      "                        }\n",
      "                    },\n",
      "                    {\n",
      "                        \"name\": \"bmi_c\",\n",
      "                        \"params\": {\n",
      "                            \"name\": \"bmi_c\",\n",
      "                            \"model_name\": \"CFE\",\n",
      "                            \"main_output_variable\": \"Q_OUT\",\n",
      "                            \"config\": \"test.ini\",\n",
      "                            \"allow_exceed_end_time\": true,\n",
      "                            \"fixed_time_step\": false,\n",
      "                            \"uses_forcing_file\": true,\n",
      "                            \"name_map\": {\n",
      "                                \"atmosphere_water__liquid_equivalent_precipitation_rate\": \"precip_rate\",\n",
      "                                \"water_potential_evaporation_flux\": \"EVAPOTRANS\",\n",
      "                                \"ice_fraction_schaake\": \"sloth_ice_fraction_schaake\",\n",
      "                                \"ice_fraction_xinan\": \"sloth_ice_fraction_xinan\",\n",
      "                                \"soil_moisture_profile\": \"sloth_smp\"\n",
      "                            },\n",
      "                            \"output_vars\": null,\n",
      "                            \"output_headers\": null,\n",
      "                            \"model_params\": null,\n",
      "                            \"library\": \"/dmod/shared_libs/libcfebmi.so.1.0.0\",\n",
      "                            \"registration_function\": \"register_bmi_cfe\"\n",
      "                        }\n",
      "                    }\n",
      "                ]\n",
      "            }\n",
      "        }\n",
      "    ],\n",
      "    \"forcing\": {\n",
      "        \"file_pattern\": \".*{{id}}.*.csv\",\n",
      "        \"path\": \"../extra/old stuff/working-example/forcings\",\n",
      "        \"provider\": \"CsvPerFeature\"\n",
      "    },\n",
      "    \"calibration\": null\n",
      "}\n"
     ]
    }
   ],
   "source": [
    "print(r.json(indent=4))"
   ]
  },
  {
   "cell_type": "markdown",
   "id": "49b7218f-2dbd-4f38-980d-c6744149392b",
   "metadata": {},
   "source": [
    "### NGEN Realization - BASIC"
   ]
  },
  {
   "cell_type": "code",
   "execution_count": 25,
   "id": "29e2d1e6-daae-4909-9e15-ee5c8e7fd916",
   "metadata": {},
   "outputs": [],
   "source": [
    "from ngen.config.configurations import Forcing, Time, Routing"
   ]
  },
  {
   "cell_type": "code",
   "execution_count": 26,
   "id": "8f0746f7-b0c2-458b-835e-f6e80bb5d426",
   "metadata": {},
   "outputs": [],
   "source": [
    "t = Time(start_time=\"2019-06-01 00:00:00\",\n",
    "         end_time=\"2019-06-07 23:00:00\",\n",
    "         output_interval = 3600\n",
    "        )"
   ]
  },
  {
   "cell_type": "code",
   "execution_count": 27,
   "id": "cb593798-17ea-4b11-9c1d-4e0a37b8008c",
   "metadata": {},
   "outputs": [],
   "source": [
    "routing = Routing(t_route_config_file_with_path='/ngen/data/config/ngen.yaml')"
   ]
  },
  {
   "cell_type": "code",
   "execution_count": 28,
   "id": "e792c6f5-4307-4c89-adea-f1d03e5a539a",
   "metadata": {},
   "outputs": [
    {
     "data": {
      "text/plain": [
       "Routing(config=PosixPath('/ngen/data/config/ngen.yaml'), path='')"
      ]
     },
     "execution_count": 28,
     "metadata": {},
     "output_type": "execute_result"
    }
   ],
   "source": [
    "routing"
   ]
  },
  {
   "cell_type": "code",
   "execution_count": 29,
   "id": "1ced2139-42e9-4526-aa72-46af8acda11a",
   "metadata": {},
   "outputs": [],
   "source": [
    "from ngen.config.realization import NgenRealization"
   ]
  },
  {
   "cell_type": "code",
   "execution_count": 30,
   "id": "71ac051e-7659-40bb-9b84-9ee4065a71db",
   "metadata": {},
   "outputs": [],
   "source": [
    "ngen_realization = NgenRealization(global_config=r,\n",
    "                                   time=t,\n",
    "                                   routing=routing)"
   ]
  },
  {
   "cell_type": "code",
   "execution_count": 31,
   "id": "70d4b4fa-31b0-4a40-a7a2-f5c778f1f617",
   "metadata": {},
   "outputs": [
    {
     "name": "stdout",
     "output_type": "stream",
     "text": [
      "{\n",
      "    \"global_config\": {\n",
      "        \"formulations\": [\n",
      "            {\n",
      "                \"name\": \"bmi_multi\",\n",
      "                \"params\": {\n",
      "                    \"name\": \"bmi_multi\",\n",
      "                    \"model_name\": \"SLOTH_CFE\",\n",
      "                    \"main_output_variable\": \"Q_OUT\",\n",
      "                    \"config\": \"\",\n",
      "                    \"allow_exceed_end_time\": true,\n",
      "                    \"fixed_time_step\": false,\n",
      "                    \"uses_forcing_file\": false,\n",
      "                    \"name_map\": null,\n",
      "                    \"output_vars\": null,\n",
      "                    \"output_headers\": null,\n",
      "                    \"model_params\": null,\n",
      "                    \"modules\": [\n",
      "                        {\n",
      "                            \"name\": \"bmi_c++\",\n",
      "                            \"params\": {\n",
      "                                \"name\": \"bmi_c++\",\n",
      "                                \"model_name\": \"SLOTH\",\n",
      "                                \"main_output_variable\": \"z\",\n",
      "                                \"config\": \"/dev/null\",\n",
      "                                \"allow_exceed_end_time\": true,\n",
      "                                \"fixed_time_step\": false,\n",
      "                                \"uses_forcing_file\": false,\n",
      "                                \"name_map\": null,\n",
      "                                \"output_vars\": null,\n",
      "                                \"output_headers\": null,\n",
      "                                \"model_params\": {\n",
      "                                    \"sloth_ice_fraction_schaake(1,double,m,node)\": \"0.0\",\n",
      "                                    \"sloth_ice_fraction_xinan(1,double,1,node)\": \"0.0\",\n",
      "                                    \"sloth_smp(1,double,1,node)\": \"0.0\",\n",
      "                                    \"EVAPOTRANS\": \"0.0\"\n",
      "                                },\n",
      "                                \"library\": \"/dmod/shared_libs/libslothmodel.so\",\n",
      "                                \"registration_function\": \"none\"\n",
      "                            }\n",
      "                        },\n",
      "                        {\n",
      "                            \"name\": \"bmi_c\",\n",
      "                            \"params\": {\n",
      "                                \"name\": \"bmi_c\",\n",
      "                                \"model_name\": \"CFE\",\n",
      "                                \"main_output_variable\": \"Q_OUT\",\n",
      "                                \"config\": \"test.ini\",\n",
      "                                \"allow_exceed_end_time\": true,\n",
      "                                \"fixed_time_step\": false,\n",
      "                                \"uses_forcing_file\": true,\n",
      "                                \"name_map\": {\n",
      "                                    \"atmosphere_water__liquid_equivalent_precipitation_rate\": \"precip_rate\",\n",
      "                                    \"water_potential_evaporation_flux\": \"EVAPOTRANS\",\n",
      "                                    \"ice_fraction_schaake\": \"sloth_ice_fraction_schaake\",\n",
      "                                    \"ice_fraction_xinan\": \"sloth_ice_fraction_xinan\",\n",
      "                                    \"soil_moisture_profile\": \"sloth_smp\"\n",
      "                                },\n",
      "                                \"output_vars\": null,\n",
      "                                \"output_headers\": null,\n",
      "                                \"model_params\": null,\n",
      "                                \"library\": \"/dmod/shared_libs/libcfebmi.so.1.0.0\",\n",
      "                                \"registration_function\": \"register_bmi_cfe\"\n",
      "                            }\n",
      "                        }\n",
      "                    ]\n",
      "                }\n",
      "            }\n",
      "        ],\n",
      "        \"forcing\": {\n",
      "            \"file_pattern\": \".*{{id}}.*.csv\",\n",
      "            \"path\": \"../extra/old stuff/working-example/forcings\",\n",
      "            \"provider\": \"CsvPerFeature\"\n",
      "        },\n",
      "        \"calibration\": null\n",
      "    },\n",
      "    \"time\": {\n",
      "        \"start_time\": \"2019-06-01 00:00:00\",\n",
      "        \"end_time\": \"2019-06-07 23:00:00\",\n",
      "        \"output_interval\": 3600\n",
      "    },\n",
      "    \"routing\": {\n",
      "        \"config\": \"/ngen/data/config/ngen.yaml\",\n",
      "        \"path\": \"\"\n",
      "    },\n",
      "    \"catchments\": {},\n",
      "    \"output_root\": null\n",
      "}\n"
     ]
    }
   ],
   "source": [
    "print(ngen_realization.json(indent=4))"
   ]
  },
  {
   "cell_type": "markdown",
   "id": "ac75edba-59c6-4fd0-a6fb-204f4af554f0",
   "metadata": {},
   "source": [
    "### NGEN Realization - Catchments"
   ]
  },
  {
   "cell_type": "code",
   "execution_count": 32,
   "id": "a8161739-88ef-4a92-afc0-f72b3139c830",
   "metadata": {},
   "outputs": [],
   "source": [
    "from ngen.config.realization import CatchmentRealization"
   ]
  },
  {
   "cell_type": "code",
   "execution_count": 33,
   "id": "12222d7e-8826-4080-9a50-a16548d4d52b",
   "metadata": {},
   "outputs": [],
   "source": [
    "r = Realization(formulations=[multi_formulation], forcing=forcing)"
   ]
  },
  {
   "cell_type": "code",
   "execution_count": 34,
   "id": "9be4f618-16b0-469f-8977-9d4f5d1e387c",
   "metadata": {},
   "outputs": [],
   "source": [
    "cr = CatchmentRealization(**r.dict(by_alias=True))"
   ]
  },
  {
   "cell_type": "code",
   "execution_count": 35,
   "id": "59a21d93-3b9c-406c-bc97-6818ef30e7c5",
   "metadata": {},
   "outputs": [],
   "source": [
    "provider = configurations.Forcing.Provider.CSV\n",
    "global_forcing = configurations.Forcing(file_pattern=\"\", path=\"\", provider=provider)\n",
    "global_realization = Realization(formulations=[], forcing=global_forcing)"
   ]
  },
  {
   "cell_type": "code",
   "execution_count": 36,
   "id": "b0d3b72e-30c8-4ddb-b7b9-7f3f0ef3d04a",
   "metadata": {},
   "outputs": [],
   "source": [
    "ngen_realization = NgenRealization(global_config=global_realization,\n",
    "                                   catchments={'cat-2918021':cr},\n",
    "                                   time=t,\n",
    "                                   routing=routing)"
   ]
  },
  {
   "cell_type": "code",
   "execution_count": 37,
   "id": "47ea9e5a-9a40-4755-aa9a-d2aa3346ab6e",
   "metadata": {
    "collapsed": true,
    "jupyter": {
     "outputs_hidden": true
    }
   },
   "outputs": [
    {
     "name": "stdout",
     "output_type": "stream",
     "text": [
      "{\n",
      "    \"global_config\": {\n",
      "        \"formulations\": [],\n",
      "        \"forcing\": {\n",
      "            \"file_pattern\": \"\",\n",
      "            \"path\": \".\",\n",
      "            \"provider\": \"CsvPerFeature\"\n",
      "        },\n",
      "        \"calibration\": null\n",
      "    },\n",
      "    \"time\": {\n",
      "        \"start_time\": \"2019-06-01 00:00:00\",\n",
      "        \"end_time\": \"2019-06-07 23:00:00\",\n",
      "        \"output_interval\": 3600\n",
      "    },\n",
      "    \"routing\": {\n",
      "        \"config\": \"/ngen/data/config/ngen.yaml\",\n",
      "        \"path\": \"\"\n",
      "    },\n",
      "    \"catchments\": {\n",
      "        \"cat-2918021\": {\n",
      "            \"formulations\": [\n",
      "                {\n",
      "                    \"name\": \"bmi_multi\",\n",
      "                    \"params\": {\n",
      "                        \"name\": \"bmi_multi\",\n",
      "                        \"model_name\": \"SLOTH_CFE\",\n",
      "                        \"main_output_variable\": \"Q_OUT\",\n",
      "                        \"config\": \"\",\n",
      "                        \"allow_exceed_end_time\": true,\n",
      "                        \"fixed_time_step\": false,\n",
      "                        \"uses_forcing_file\": false,\n",
      "                        \"name_map\": null,\n",
      "                        \"output_vars\": null,\n",
      "                        \"output_headers\": null,\n",
      "                        \"model_params\": null,\n",
      "                        \"modules\": [\n",
      "                            {\n",
      "                                \"name\": \"bmi_c++\",\n",
      "                                \"params\": {\n",
      "                                    \"name\": \"bmi_c++\",\n",
      "                                    \"model_name\": \"SLOTH\",\n",
      "                                    \"main_output_variable\": \"z\",\n",
      "                                    \"config\": \"/dev/null\",\n",
      "                                    \"allow_exceed_end_time\": true,\n",
      "                                    \"fixed_time_step\": false,\n",
      "                                    \"uses_forcing_file\": false,\n",
      "                                    \"name_map\": null,\n",
      "                                    \"output_vars\": null,\n",
      "                                    \"output_headers\": null,\n",
      "                                    \"model_params\": {\n",
      "                                        \"sloth_ice_fraction_schaake(1,double,m,node)\": \"0.0\",\n",
      "                                        \"sloth_ice_fraction_xinan(1,double,1,node)\": \"0.0\",\n",
      "                                        \"sloth_smp(1,double,1,node)\": \"0.0\",\n",
      "                                        \"EVAPOTRANS\": \"0.0\"\n",
      "                                    },\n",
      "                                    \"library\": \"/dmod/shared_libs/libslothmodel.so\",\n",
      "                                    \"registration_function\": \"none\"\n",
      "                                }\n",
      "                            },\n",
      "                            {\n",
      "                                \"name\": \"bmi_c\",\n",
      "                                \"params\": {\n",
      "                                    \"name\": \"bmi_c\",\n",
      "                                    \"model_name\": \"CFE\",\n",
      "                                    \"main_output_variable\": \"Q_OUT\",\n",
      "                                    \"config\": \"test.ini\",\n",
      "                                    \"allow_exceed_end_time\": true,\n",
      "                                    \"fixed_time_step\": false,\n",
      "                                    \"uses_forcing_file\": true,\n",
      "                                    \"name_map\": {\n",
      "                                        \"atmosphere_water__liquid_equivalent_precipitation_rate\": \"precip_rate\",\n",
      "                                        \"water_potential_evaporation_flux\": \"EVAPOTRANS\",\n",
      "                                        \"ice_fraction_schaake\": \"sloth_ice_fraction_schaake\",\n",
      "                                        \"ice_fraction_xinan\": \"sloth_ice_fraction_xinan\",\n",
      "                                        \"soil_moisture_profile\": \"sloth_smp\"\n",
      "                                    },\n",
      "                                    \"output_vars\": null,\n",
      "                                    \"output_headers\": null,\n",
      "                                    \"model_params\": null,\n",
      "                                    \"library\": \"/dmod/shared_libs/libcfebmi.so.1.0.0\",\n",
      "                                    \"registration_function\": \"register_bmi_cfe\"\n",
      "                                }\n",
      "                            }\n",
      "                        ]\n",
      "                    }\n",
      "                }\n",
      "            ],\n",
      "            \"forcing\": {\n",
      "                \"file_pattern\": \".*{{id}}.*.csv\",\n",
      "                \"path\": \"../extra/old stuff/working-example/forcings\",\n",
      "                \"provider\": \"CsvPerFeature\"\n",
      "            },\n",
      "            \"calibration\": null\n",
      "        }\n",
      "    },\n",
      "    \"output_root\": null\n",
      "}\n"
     ]
    }
   ],
   "source": [
    "print(ngen_realization.json(indent=4))"
   ]
  },
  {
   "cell_type": "markdown",
   "id": "a96f1de2-4857-432d-af3c-2c4c54f6eece",
   "metadata": {},
   "source": [
    "## T-Route"
   ]
  },
  {
   "cell_type": "code",
   "execution_count": 11,
   "id": "c672df0b-bd6f-4549-ac4e-27ec6206743b",
   "metadata": {},
   "outputs": [],
   "source": [
    "# import sys\n",
    "# sys.path.append(str(Path('../').resolve()))"
   ]
  },
  {
   "cell_type": "code",
   "execution_count": 12,
   "id": "93830f5e-88e0-47d5-86df-25a8adc73862",
   "metadata": {},
   "outputs": [],
   "source": [
    "# Installation\n",
    "# git clone https://github.com/NOAA-OWP/t-route.git\n",
    "# cd t-route/src/troute-config\n",
    "# pip install ."
   ]
  },
  {
   "cell_type": "code",
   "execution_count": 16,
   "id": "861de261-2ae3-4376-abb8-3cb511589174",
   "metadata": {},
   "outputs": [],
   "source": [
    "from collections import OrderedDict\n",
    "import pandas\n",
    "import typing\n",
    "from pathlib import Path"
   ]
  },
  {
   "cell_type": "code",
   "execution_count": 17,
   "id": "f1e7b182-ff37-46d4-9623-4be3ef7d3212",
   "metadata": {},
   "outputs": [],
   "source": [
    "\n",
    "import troute.config as tconfig"
   ]
  },
  {
   "cell_type": "code",
   "execution_count": 18,
   "id": "ffd287c5-0752-499c-baee-8479b76fef9e",
   "metadata": {},
   "outputs": [],
   "source": [
    "from troute.config import config, \\\n",
    "                          logging_parameters, \\\n",
    "                          compute_parameters, \\\n",
    "                          bmi_parameters, \\\n",
    "                          network_topology_parameters, \\\n",
    "                          output_parameters"
   ]
  },
  {
   "cell_type": "code",
   "execution_count": 19,
   "id": "7441c6ad-bf3c-4027-a9ee-9b4b6e698ad8",
   "metadata": {},
   "outputs": [
    {
     "name": "stdout",
     "output_type": "stream",
     "text": [
      "{\n",
      "    \"log_level\": \"DEBUG\",\n",
      "    \"showtiming\": true\n",
      "}\n"
     ]
    }
   ],
   "source": [
    "log_conf = logging_parameters.LoggingParameters(log_level='DEBUG',\n",
    "                                                showtiming=True)\n",
    "print(log_conf.json(indent=4))"
   ]
  },
  {
   "cell_type": "code",
   "execution_count": 73,
   "id": "9c3d27d4-663e-45ca-bab5-9452fc355d5f",
   "metadata": {},
   "outputs": [
    {
     "name": "stdout",
     "output_type": "stream",
     "text": [
      "{\n",
      "    \"preprocessing_parameters\": {},\n",
      "    \"supernetwork_parameters\": {\n",
      "        \"geo_file_path\": \"/ngen/data/domain/wb-2917533_upstream_subset.gpkg\",\n",
      "        \"network_type\": \"HYFeaturesNetwork\",\n",
      "        \"mask_layer_string\": \"\",\n",
      "        \"mask_key\": 0,\n",
      "        \"columns\": {\n",
      "            \"key\": \"id\",\n",
      "            \"downstream\": \"toid\",\n",
      "            \"dx\": \"length_m\",\n",
      "            \"n\": \"n\",\n",
      "            \"ncc\": \"nCC\",\n",
      "            \"s0\": \"So\",\n",
      "            \"bw\": \"BtmWdth\",\n",
      "            \"waterbody\": \"rl_NHDWaterbodyComID\",\n",
      "            \"gages\": \"rl_gages\",\n",
      "            \"tw\": \"TopWdth\",\n",
      "            \"twcc\": \"TopWdthCC\",\n",
      "            \"musk\": \"MusK\",\n",
      "            \"musx\": \"MusX\",\n",
      "            \"cs\": \"ChSlp\",\n",
      "            \"alt\": \"alt\",\n",
      "            \"mainstem\": \"mainstem\"\n",
      "        },\n",
      "        \"synthetic_wb_id_offset\": 999000000000.0,\n",
      "        \"terminal_code\": 0,\n",
      "        \"driver_string\": \"NetCDF\",\n",
      "        \"layer_string\": 0\n",
      "    },\n",
      "    \"waterbody_parameters\": {\n",
      "        \"break_network_at_waterbodies\": false,\n",
      "        \"level_pool\": {\n",
      "            \"level_pool_waterbody_parameter_file_path\": \"/ngen/data/domain/wb-2917533_upstream_subset.gpkg\",\n",
      "            \"level_pool_waterbody_id\": \"lake_id\"\n",
      "        },\n",
      "        \"waterbody_null_code\": -9999\n",
      "    }\n",
      "}\n"
     ]
    }
   ],
   "source": [
    "super_conf = network_topology_parameters.SupernetworkParameters(geo_file_path = '/ngen/data/domain/wb-2917533_upstream_subset.gpkg',\n",
    "                                                                synthetic_wb_segments = None,\n",
    "                                                                duplicate_wb_segments=None,\n",
    "                                                               )\n",
    "lp = network_topology_parameters.LevelPool(level_pool_waterbody_parameter_file_path='/ngen/data/domain/wb-2917533_upstream_subset.gpkg')\n",
    "                                           \n",
    "wb = network_topology_parameters.WaterbodyParameters(break_network_at_waterbodies=False,\n",
    "                                                     level_pool=lp)\n",
    "                                                     \n",
    "network_conf = network_topology_parameters.NetworkTopologyParameters(supernetwork_parameters=super_conf,\n",
    "                                                                     waterbody_parameters=wb)\n",
    "\n",
    "## remove empty dictionaries\n",
    "#cleaned = {k:v for k, v in network_conf.dict().items() if v}\n",
    "\n",
    "print(network_conf.json(indent=4, by_alias=True, exclude_none=True))"
   ]
  },
  {
   "cell_type": "code",
   "execution_count": 84,
   "id": "ea9459a7-919b-43cd-9b44-2f3e74f72868",
   "metadata": {},
   "outputs": [
    {
     "data": {
      "text/plain": [
       "{'key': 'id',\n",
       " 'downstream': 'toid',\n",
       " 'dx': 'length_m',\n",
       " 'n': 'n',\n",
       " 'ncc': 'nCC',\n",
       " 's0': 'So',\n",
       " 'bw': 'BtmWdth',\n",
       " 'waterbody': 'rl_NHDWaterbodyComID',\n",
       " 'gages': 'rl_gages',\n",
       " 'tw': 'TopWdth',\n",
       " 'twcc': 'TopWdthCC',\n",
       " 'musk': 'MusK',\n",
       " 'musx': 'MusX',\n",
       " 'cs': 'ChSlp',\n",
       " 'alt': 'alt',\n",
       " 'mainstem': 'mainstem'}"
      ]
     },
     "execution_count": 84,
     "metadata": {},
     "output_type": "execute_result"
    }
   ],
   "source": [
    "network_conf.supernetwork_parameters.columns"
   ]
  },
  {
   "cell_type": "code",
   "execution_count": 50,
   "id": "fc36ca18-aa8a-4de5-9fad-23c787c8dd6c",
   "metadata": {},
   "outputs": [],
   "source": [
    "import datetime"
   ]
  },
  {
   "cell_type": "code",
   "execution_count": null,
   "id": "b3d36bdf-bd3c-4ce2-94cc-c360b94f4ee1",
   "metadata": {},
   "outputs": [],
   "source": []
  },
  {
   "cell_type": "code",
   "execution_count": null,
   "id": "5abd1c2f-fbe0-4d6a-a8c3-66204638693b",
   "metadata": {},
   "outputs": [],
   "source": []
  },
  {
   "cell_type": "code",
   "execution_count": 54,
   "id": "61009c35-659b-4b7c-963e-fefc699a697d",
   "metadata": {},
   "outputs": [
    {
     "data": {
      "text/plain": [
       "False"
      ]
     },
     "execution_count": 54,
     "metadata": {},
     "output_type": "execute_result"
    }
   ],
   "source": [
    "\n",
    "st == datetime.datetime.timestamp"
   ]
  },
  {
   "cell_type": "code",
   "execution_count": 58,
   "id": "2b26c307-8ebe-40c4-92eb-d49ea656d253",
   "metadata": {},
   "outputs": [
    {
     "data": {
      "text/plain": [
       "datetime.datetime(2020, 1, 1, 0, 0)"
      ]
     },
     "execution_count": 58,
     "metadata": {},
     "output_type": "execute_result"
    }
   ],
   "source": [
    "st.to_pydatetime()"
   ]
  },
  {
   "cell_type": "code",
   "execution_count": null,
   "id": "bd2be28a-b746-4f4a-971f-a8855f4167c7",
   "metadata": {},
   "outputs": [],
   "source": []
  },
  {
   "cell_type": "code",
   "execution_count": null,
   "id": "114f15e0-6640-4570-a6e6-2be65f6ce0bf",
   "metadata": {},
   "outputs": [],
   "source": []
  },
  {
   "cell_type": "code",
   "execution_count": 60,
   "id": "c305bdcd-a0e7-4e0d-9a86-290329532530",
   "metadata": {},
   "outputs": [
    {
     "name": "stdout",
     "output_type": "stream",
     "text": [
      "{\n",
      "    \"parallel_compute_method\": \"by-subnetwork-jit-clustered\",\n",
      "    \"compute_kernel\": \"V02-structured\",\n",
      "    \"assume_short_ts\": true,\n",
      "    \"subnetwork_target_size\": 10000,\n",
      "    \"cpu_pool\": 1,\n",
      "    \"return_courant\": false,\n",
      "    \"restart_parameters\": {\n",
      "        \"start_datetime\": \"2020-01-01T00:00:00\"\n",
      "    },\n",
      "    \"hybrid_parameters\": {\n",
      "        \"run_hybrid_routing\": false,\n",
      "        \"use_natl_xsections\": false,\n",
      "        \"run_refactored_network\": false\n",
      "    },\n",
      "    \"forcing_parameters\": {\n",
      "        \"qts_subdivisions\": 12,\n",
      "        \"dt\": 300,\n",
      "        \"qlat_input_folder\": \".\",\n",
      "        \"nts\": 2880,\n",
      "        \"max_loop_size\": 720,\n",
      "        \"qlat_file_index_col\": \"feature_id\",\n",
      "        \"qlat_file_value_col\": \"q_lateral\",\n",
      "        \"qlat_file_gw_bucket_flux_col\": \"qBucket\",\n",
      "        \"qlat_file_terrain_runoff_col\": \"qSfcLatRunoff\",\n",
      "        \"qlat_file_pattern_filter\": \"nex-*\",\n",
      "        \"binary_nexus_file_folder\": \".\"\n",
      "    },\n",
      "    \"data_assimilation_parameters\": {\n",
      "        \"timeslice_lookback_hours\": 24,\n",
      "        \"interpolation_limit_min\": 59,\n",
      "        \"wrf_hydro_lastobs_lead_time_relative_to_simulation_start_time\": 0,\n",
      "        \"wrf_lastobs_type\": \"obs-based\",\n",
      "        \"streamflow_da\": {\n",
      "            \"streamflow_nudging\": false,\n",
      "            \"crosswalk_gage_field\": \"gages\",\n",
      "            \"crosswalk_segID_field\": \"link\",\n",
      "            \"diffusive_streamflow_nudging\": false\n",
      "        },\n",
      "        \"qc_threshold\": 1\n",
      "    }\n",
      "}\n"
     ]
    }
   ],
   "source": [
    "# determine start and end dates from the forcing data\n",
    "df = pandas.read_csv(list(Path('data/forcing').glob('*.csv'))[0])\n",
    "st = pandas.to_datetime(df.time.min()).to_pydatetime()\n",
    "\n",
    "# # set the end time \n",
    "# #et = pandas.to_datetime(df.time.max())\n",
    "# from datetime import timedelta\n",
    "# et = st + timedelta(days=10) # using 10 days to keep simulations short for now.\n",
    "\n",
    "restart = compute_parameters.RestartParameters(\n",
    "    start_datetime=st\n",
    ")\n",
    "\n",
    "hybrid = compute_parameters.HybridParameters(run_hybrid_routing=False)\n",
    "\n",
    "forcing = compute_parameters.ForcingParameters(\n",
    "    qts_subdivisions = 12,\n",
    "    dt = 300,\n",
    "    nts = 288 * 10,\n",
    "    max_loop_size = 720,\n",
    "    qlat_file_index_col = \"feature_id\",\n",
    "    qlat_file_value_col = \"q_lateral\",\n",
    "    qlat_file_gw_bucket_flux_col = \"qBucket\",\n",
    "    qlat_file_terrain_runoff_col = \"qSfcLatRunoff\",\n",
    "    qlat_file_pattern_filter = \"nex-*\",\n",
    "    qlat_input_folder = str(Path('./')),\n",
    "    binary_nexus_file_folder = str(Path('./')),\n",
    ")\n",
    "\n",
    "streamflow_da = compute_parameters.StreamflowDA(streamflow_nudging=False,\n",
    "                                                diffusive_streamflow_nudging=False)\n",
    "da = compute_parameters.DataAssimilationParameters(streamflow_da=streamflow_da)\n",
    "\n",
    "comp_conf = compute_parameters.ComputeParameters(\n",
    "    parallel_compute_method='by-subnetwork-jit-clustered',\n",
    "    assume_short_ts = True,\n",
    "    restart_parameters = restart,\n",
    "    hybrid_parameters = hybrid,\n",
    "    forcing_parameters = forcing,\n",
    "    data_assimilation_parameters = da\n",
    ")\n",
    "\n",
    "print(comp_conf.json(indent=4, by_alias=True, exclude_none=True))"
   ]
  },
  {
   "cell_type": "code",
   "execution_count": 61,
   "id": "f43d3c94-9b0d-4675-a476-6e11fb7d8729",
   "metadata": {},
   "outputs": [
    {
     "name": "stdout",
     "output_type": "stream",
     "text": [
      "{\n",
      "    \"csv_output\": {\n",
      "        \"csv_output_folder\": \".\"\n",
      "    }\n",
      "}\n"
     ]
    }
   ],
   "source": [
    "## Output Parameters\n",
    "\"\"\"\n",
    "output_parameters:\n",
    "    #----------\n",
    "    #test_output: output/unit_test_hyfeature.pkl\n",
    "    #lite_restart:\n",
    "    #    #----------\n",
    "    #    lite_restart_output_directory: restart/\n",
    "  csv_output:\n",
    "    csv_output_folder: ./\n",
    "  chrtout_output:\n",
    "        #----------\n",
    "        #wrf_hydro_channel_output_source_folder: ./\n",
    "    # chanobs_output:\n",
    "    #     #----------\n",
    "    #     chanobs_output_directory: ./routing\n",
    "    #     chanobs_filepath        : Chanobs.nc\n",
    "  lakeout_output: ./\n",
    "\"\"\"\n",
    "\n",
    "csv = output_parameters.CsvOutput(\n",
    "    csv_output_folder = str(Path('./'))\n",
    ")\n",
    "\n",
    "\n",
    "out_conf = output_parameters.OutputParameters(\n",
    "    csv_output = csv    \n",
    ")\n",
    "\n",
    "print(out_conf.json(indent=4, by_alias=True, exclude_none=True))"
   ]
  },
  {
   "cell_type": "code",
   "execution_count": 62,
   "id": "e1b3f9d7-f9f0-4391-af3a-489165d2570f",
   "metadata": {},
   "outputs": [],
   "source": [
    "conf = tconfig.Config(\n",
    "    log_parameters = log_conf,\n",
    "    compute_parameters = comp_conf,\n",
    "    network_topology_parameters = network_conf,\n",
    "    output_parameters = out_conf\n",
    ")"
   ]
  },
  {
   "cell_type": "markdown",
   "id": "6b2168cd-a4c9-422e-8a6b-7fbe49fd54d1",
   "metadata": {},
   "source": [
    "## Validation"
   ]
  },
  {
   "cell_type": "code",
   "execution_count": 109,
   "id": "c06f8a36-5e65-431b-946c-d0c6112bf102",
   "metadata": {},
   "outputs": [
    {
     "ename": "ModuleNotFoundError",
     "evalue": "No module named 'troute.nhd_io'",
     "output_type": "error",
     "traceback": [
      "\u001b[0;31m---------------------------------------------------------------------------\u001b[0m",
      "\u001b[0;31mModuleNotFoundError\u001b[0m                       Traceback (most recent call last)",
      "Cell \u001b[0;32mIn[109], line 2\u001b[0m\n\u001b[1;32m      1\u001b[0m \u001b[38;5;28;01mimport\u001b[39;00m \u001b[38;5;21;01mtroute\u001b[39;00m\u001b[38;5;21;01m.\u001b[39;00m\u001b[38;5;21;01mconfig\u001b[39;00m \n\u001b[0;32m----> 2\u001b[0m \u001b[38;5;28;01mfrom\u001b[39;00m \u001b[38;5;21;01mnwm_routing\u001b[39;00m \u001b[38;5;28;01mimport\u001b[39;00m \u001b[38;5;28minput\u001b[39m\n",
      "File \u001b[0;32m~/Documents/work/ciroh/HydroShare-Cloud-Native-Data/containers/cfe/conda-env/lib/python3.12/site-packages/nwm_routing/input.py:7\u001b[0m\n\u001b[1;32m      4\u001b[0m \u001b[38;5;28;01mfrom\u001b[39;00m \u001b[38;5;21;01mdatetime\u001b[39;00m \u001b[38;5;28;01mimport\u001b[39;00m \u001b[38;5;241m*\u001b[39m\n\u001b[1;32m      5\u001b[0m \u001b[38;5;28;01mimport\u001b[39;00m \u001b[38;5;21;01myaml\u001b[39;00m\n\u001b[0;32m----> 7\u001b[0m \u001b[38;5;28;01mimport\u001b[39;00m \u001b[38;5;21;01mtroute\u001b[39;00m\u001b[38;5;21;01m.\u001b[39;00m\u001b[38;5;21;01mnhd_io\u001b[39;00m \u001b[38;5;28;01mas\u001b[39;00m \u001b[38;5;21;01mnhd_io\u001b[39;00m\n\u001b[1;32m      8\u001b[0m \u001b[38;5;28;01mimport\u001b[39;00m \u001b[38;5;21;01mtroute\u001b[39;00m\u001b[38;5;21;01m.\u001b[39;00m\u001b[38;5;21;01mnhd_network_utilities_v02\u001b[39;00m \u001b[38;5;28;01mas\u001b[39;00m \u001b[38;5;21;01mnnu\u001b[39;00m\n\u001b[1;32m      9\u001b[0m \u001b[38;5;28;01mfrom\u001b[39;00m \u001b[38;5;21;01m.\u001b[39;00m\u001b[38;5;21;01mlog_level_set\u001b[39;00m \u001b[38;5;28;01mimport\u001b[39;00m log_level_set\n",
      "\u001b[0;31mModuleNotFoundError\u001b[0m: No module named 'troute.nhd_io'"
     ]
    }
   ],
   "source": [
    "import troute.config \n",
    "from nwm_routing import input"
   ]
  },
  {
   "cell_type": "code",
   "execution_count": 108,
   "id": "e0e3bf2d-8dc9-42f7-ac18-433caf054942",
   "metadata": {},
   "outputs": [
    {
     "data": {
      "text/plain": [
       "['__builtins__',\n",
       " '__cached__',\n",
       " '__doc__',\n",
       " '__file__',\n",
       " '__loader__',\n",
       " '__name__',\n",
       " '__package__',\n",
       " '__path__',\n",
       " '__spec__']"
      ]
     },
     "execution_count": 108,
     "metadata": {},
     "output_type": "execute_result"
    }
   ],
   "source": [
    "dir(nwm_routing)"
   ]
  },
  {
   "cell_type": "code",
   "execution_count": null,
   "id": "dbf660f1-3b98-4ee3-ba4c-2689672b12ee",
   "metadata": {},
   "outputs": [],
   "source": []
  },
  {
   "cell_type": "code",
   "execution_count": 91,
   "id": "fac400df-c396-485a-9b43-17a988994c2c",
   "metadata": {},
   "outputs": [],
   "source": [
    "import yaml\n",
    "from yaml import Dumper, ScalarNode, add_representer\n",
    "from pathlib import PosixPath\n",
    "from datetime import datetime\n",
    "\n",
    "def posixpath_handler(dumper: Dumper, data: PosixPath) -> ScalarNode:\n",
    "    return dumper.represent_str(str(data))\n",
    "\n",
    "def datetime_handler(dumper: Dumper, data: datetime) -> ScalarNode:\n",
    "    return dumper.represent_str(data.strftime('%Y-%m-%d %H:%M:%S'))\n",
    "\n",
    "add_representer(PosixPath, posixpath_handler)\n",
    "add_representer(datetime, datetime_handler)\n",
    "#print(yaml.dump(conf.dict(), default_flow_style = False, sort_keys=False))\n",
    "\n",
    "\n",
    "with open('data/config/ngen.yaml', 'w') as outfile:\n",
    "    yaml.dump(conf.dict(), outfile, default_flow_style = False, sort_keys=False)\n"
   ]
  },
  {
   "cell_type": "code",
   "execution_count": 92,
   "id": "3443d5ba-a3c5-4913-b3ab-cea9aace1b01",
   "metadata": {},
   "outputs": [],
   "source": [
    "\n",
    "with open('data/config/ngen.yaml') as custom_file:\n",
    "    data = yaml.load(custom_file, Loader=yaml.SafeLoader)\n",
    "\n",
    "troute_configuration = config.Config(**data)\n",
    "config_dict = troute_configuration.dict()"
   ]
  },
  {
   "cell_type": "code",
   "execution_count": 96,
   "id": "61d1563c-945a-47d9-82e4-1a647101f44c",
   "metadata": {},
   "outputs": [],
   "source": [
    "log_parameters = config_dict.get('log_parameters')\n",
    "compute_parameters = config_dict.get('compute_parameters')\n",
    "network_topology_parameters = config_dict.get('network_topology_parameters')\n",
    "output_parameters = config_dict.get('output_parameters')\n",
    "\n",
    "\n",
    "preprocessing_parameters = network_topology_parameters.get('preprocessing_parameters')\n",
    "supernetwork_parameters = network_topology_parameters.get('supernetwork_parameters')\n",
    "waterbody_parameters = network_topology_parameters.get('waterbody_parameters')\n",
    "forcing_parameters = compute_parameters.get('forcing_parameters')\n",
    "restart_parameters = compute_parameters.get('restart_parameters')\n",
    "hybrid_parameters = compute_parameters.get('hybrid_parameters')\n",
    "parity_parameters = output_parameters.get('wrf_hydro_parity_check')\n",
    "data_assimilation_parameters = compute_parameters.get('data_assimilation_parameters')\n",
    "\n",
    "\n"
   ]
  },
  {
   "cell_type": "code",
   "execution_count": 94,
   "id": "249445c0-fbfa-432c-8ded-10d880a8c4ca",
   "metadata": {},
   "outputs": [
    {
     "data": {
      "text/plain": [
       "{'title_string': None,\n",
       " 'geo_file_path': '/ngen/data/domain/wb-2917533_upstream_subset.gpkg',\n",
       " 'network_type': 'HYFeaturesNetwork',\n",
       " 'flowpath_edge_list': None,\n",
       " 'mask_file_path': None,\n",
       " 'mask_layer_string': '',\n",
       " 'mask_driver_string': None,\n",
       " 'mask_key': 0,\n",
       " 'columns': {'key': 'id',\n",
       "  'downstream': 'toid',\n",
       "  'dx': 'length_m',\n",
       "  'n': 'n',\n",
       "  'ncc': 'nCC',\n",
       "  's0': 'So',\n",
       "  'bw': 'BtmWdth',\n",
       "  'waterbody': 'rl_NHDWaterbodyComID',\n",
       "  'tw': 'TopWdth',\n",
       "  'twcc': 'TopWdthCC',\n",
       "  'alt': 'alt',\n",
       "  'musk': 'MusK',\n",
       "  'musx': 'MusX',\n",
       "  'cs': 'ChSlp',\n",
       "  'gages': 'rl_gages',\n",
       "  'mainstem': 'mainstem'},\n",
       " 'synthetic_wb_segments': None,\n",
       " 'synthetic_wb_id_offset': 999000000000.0,\n",
       " 'duplicate_wb_segments': None,\n",
       " 'terminal_code': 0,\n",
       " 'driver_string': 'NetCDF',\n",
       " 'layer_string': 0}"
      ]
     },
     "execution_count": 94,
     "metadata": {},
     "output_type": "execute_result"
    }
   ],
   "source": [
    "supernetwork_parameters"
   ]
  },
  {
   "cell_type": "code",
   "execution_count": null,
   "id": "fe7adda8-a76c-4f6d-8649-a8a9ac6489c3",
   "metadata": {},
   "outputs": [],
   "source": []
  },
  {
   "cell_type": "code",
   "execution_count": null,
   "id": "97b7b1f2-f3ca-4965-bef1-a30e0b694f1a",
   "metadata": {},
   "outputs": [],
   "source": []
  },
  {
   "cell_type": "code",
   "execution_count": null,
   "id": "29db6a71-10cd-4c41-841b-715eded649e4",
   "metadata": {},
   "outputs": [],
   "source": []
  },
  {
   "cell_type": "code",
   "execution_count": 80,
   "id": "96cb048c-0f8a-45a4-b2e3-08c04ee0b074",
   "metadata": {},
   "outputs": [
    {
     "name": "stdout",
     "output_type": "stream",
     "text": [
      "compute_parameters:\n",
      "  assume_short_ts: true\n",
      "  compute_kernel: V02-structured\n",
      "  cpu_pool: 1\n",
      "  data_assimilation_parameters:\n",
      "    interpolation_limit_min: 59\n",
      "    qc_threshold: 1\n",
      "    streamflow_da:\n",
      "      crosswalk_gage_field: gages\n",
      "      crosswalk_segID_field: link\n",
      "      diffusive_streamflow_nudging: false\n",
      "      streamflow_nudging: false\n",
      "    timeslice_lookback_hours: 24\n",
      "    wrf_hydro_lastobs_lead_time_relative_to_simulation_start_time: 0\n",
      "    wrf_lastobs_type: obs-based\n",
      "  forcing_parameters:\n",
      "    binary_nexus_file_folder: .\n",
      "    dt: 300\n",
      "    max_loop_size: 720\n",
      "    nts: 2880\n",
      "    qlat_file_gw_bucket_flux_col: qBucket\n",
      "    qlat_file_index_col: feature_id\n",
      "    qlat_file_pattern_filter: nex-*\n",
      "    qlat_file_terrain_runoff_col: qSfcLatRunoff\n",
      "    qlat_file_value_col: q_lateral\n",
      "    qlat_input_folder: .\n",
      "    qts_subdivisions: 12\n",
      "  hybrid_parameters:\n",
      "    run_hybrid_routing: false\n",
      "    run_refactored_network: false\n",
      "    use_natl_xsections: false\n",
      "  parallel_compute_method: by-subnetwork-jit-clustered\n",
      "  restart_parameters:\n",
      "    start_datetime: '2020-01-01T00:00:00'\n",
      "  return_courant: false\n",
      "  subnetwork_target_size: 10000\n",
      "log_parameters:\n",
      "  log_level: DEBUG\n",
      "  showtiming: true\n",
      "network_topology_parameters:\n",
      "  preprocessing_parameters: {}\n",
      "  supernetwork_parameters:\n",
      "    columns:\n",
      "      alt: alt\n",
      "      bw: BtmWdth\n",
      "      cs: ChSlp\n",
      "      downstream: toid\n",
      "      dx: length_m\n",
      "      gages: rl_gages\n",
      "      key: id\n",
      "      mainstem: mainstem\n",
      "      musk: MusK\n",
      "      musx: MusX\n",
      "      n: n\n",
      "      ncc: nCC\n",
      "      s0: So\n",
      "      tw: TopWdth\n",
      "      twcc: TopWdthCC\n",
      "      waterbody: rl_NHDWaterbodyComID\n",
      "    driver_string: NetCDF\n",
      "    geo_file_path: /ngen/data/domain/wb-2917533_upstream_subset.gpkg\n",
      "    layer_string: 0\n",
      "    mask_key: 0\n",
      "    mask_layer_string: ''\n",
      "    network_type: HYFeaturesNetwork\n",
      "    synthetic_wb_id_offset: 999000000000.0\n",
      "    terminal_code: 0\n",
      "  waterbody_parameters:\n",
      "    break_network_at_waterbodies: false\n",
      "    level_pool:\n",
      "      level_pool_waterbody_id: lake_id\n",
      "      level_pool_waterbody_parameter_file_path: /ngen/data/domain/wb-2917533_upstream_subset.gpkg\n",
      "    waterbody_null_code: -9999\n",
      "output_parameters:\n",
      "  csv_output:\n",
      "    csv_output_folder: .\n",
      "\n"
     ]
    }
   ],
   "source": [
    "from pydantic_yaml import parse_yaml_raw_as, to_yaml_str\n",
    "\n",
    "print(to_yaml_str(conf, by_alias=True, exclude_none=True))"
   ]
  },
  {
   "cell_type": "code",
   "execution_count": 37,
   "id": "5228608d-0011-466f-9796-cc6504aaf35d",
   "metadata": {
    "scrolled": true
   },
   "outputs": [
    {
     "name": "stdout",
     "output_type": "stream",
     "text": [
      "log_parameters:\n",
      "  log_level: DEBUG\n",
      "  showtiming: true\n",
      "network_topology_parameters:\n",
      "  preprocessing_parameters: {}\n",
      "  supernetwork_parameters:\n",
      "    geo_file_path: /ngen/data/domain/wb-2917533_upstream_subset.gpkg\n",
      "    network_type: HYFeaturesNetwork\n",
      "    mask_layer_string: ''\n",
      "    mask_key: 0\n",
      "    columns:\n",
      "      key: id\n",
      "      downstream: toid\n",
      "      dx: length_m\n",
      "      n: n\n",
      "      ncc: nCC\n",
      "      s0: So\n",
      "      bw: BtmWdth\n",
      "      waterbody: rl_NHDWaterbodyComID\n",
      "      gages: rl_gages\n",
      "      tw: TopWdth\n",
      "      twcc: TopWdthCC\n",
      "      musk: MusK\n",
      "      musx: MusX\n",
      "      cs: ChSlp\n",
      "      alt: alt\n",
      "      mainstem: mainstem\n",
      "    synthetic_wb_id_offset: 999000000000.0\n",
      "    terminal_code: 0\n",
      "    driver_string: NetCDF\n",
      "    layer_string: 0\n",
      "  waterbody_parameters:\n",
      "    break_network_at_waterbodies: false\n",
      "    level_pool:\n",
      "      level_pool_waterbody_parameter_file_path: /ngen/data/domain/wb-2917533_upstream_subset.gpkg\n",
      "      level_pool_waterbody_id: lake_id\n",
      "    waterbody_null_code: -9999\n",
      "compute_parameters:\n",
      "  parallel_compute_method: by-subnetwork-jit-clustered\n",
      "  compute_kernel: V02-structured\n",
      "  assume_short_ts: true\n",
      "  subnetwork_target_size: 10000\n",
      "  cpu_pool: 1\n",
      "  return_courant: false\n",
      "  restart_parameters:\n",
      "    start_datetime: '2020-01-01T00:00:00'\n",
      "  hybrid_parameters:\n",
      "    run_hybrid_routing: false\n",
      "    use_natl_xsections: false\n",
      "    run_refactored_network: false\n",
      "  forcing_parameters:\n",
      "    qts_subdivisions: 12\n",
      "    dt: 300\n",
      "    qlat_input_folder: .\n",
      "    nts: 2880\n",
      "    max_loop_size: 720\n",
      "    qlat_file_index_col: feature_id\n",
      "    qlat_file_value_col: q_lateral\n",
      "    qlat_file_gw_bucket_flux_col: qBucket\n",
      "    qlat_file_terrain_runoff_col: qSfcLatRunoff\n",
      "    qlat_file_pattern_filter: nex-*\n",
      "    binary_nexus_file_folder: .\n",
      "  data_assimilation_parameters:\n",
      "    timeslice_lookback_hours: 24\n",
      "    interpolation_limit_min: 59\n",
      "    wrf_hydro_lastobs_lead_time_relative_to_simulation_start_time: 0\n",
      "    wrf_lastobs_type: obs-based\n",
      "    streamflow_da:\n",
      "      streamflow_nudging: false\n",
      "      crosswalk_gage_field: gages\n",
      "      crosswalk_segID_field: link\n",
      "      diffusive_streamflow_nudging: false\n",
      "    qc_threshold: 1\n",
      "output_parameters:\n",
      "  csv_output:\n",
      "    csv_output_folder: .\n",
      "\n"
     ]
    }
   ],
   "source": [
    "import json\n",
    "import yaml\n",
    "\n",
    "# serialize to json\n",
    "conf_json = conf.json(indent=4, by_alias=True, exclude_none=True)\n",
    "\n",
    "# convert from json to yaml\n",
    "yaml_str = yaml.dump(json.loads(conf_json), default_flow_style = False, sort_keys=False)\n",
    "\n",
    "print(yaml_str)"
   ]
  }
 ],
 "metadata": {
  "kernelspec": {
   "display_name": "Python 3 (ipykernel)",
   "language": "python",
   "name": "python3"
  },
  "language_info": {
   "codemirror_mode": {
    "name": "ipython",
    "version": 3
   },
   "file_extension": ".py",
   "mimetype": "text/x-python",
   "name": "python",
   "nbconvert_exporter": "python",
   "pygments_lexer": "ipython3",
   "version": "3.12.0"
  }
 },
 "nbformat": 4,
 "nbformat_minor": 5
}
