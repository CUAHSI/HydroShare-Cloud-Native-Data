{
 "cells": [
  {
   "cell_type": "code",
   "execution_count": 1,
   "id": "8c71de31-842c-45d5-9ece-c54cba4505bb",
   "metadata": {},
   "outputs": [],
   "source": [
    "# input arguments\n",
    "timestepsPerGroup=10\n",
    "startDateTime = '2010-01-01 00:00:00'\n",
    "endDateTime = '2010-01-02 00:00:00'\n",
    "#numParts = 2\n"
   ]
  },
  {
   "cell_type": "code",
   "execution_count": 2,
   "id": "e7ca6cd9-d200-421b-9c94-463c372fe79d",
   "metadata": {},
   "outputs": [],
   "source": [
    "import json\n",
    "import os\n",
    "import sys\n",
    "from datetime import datetime, timedelta \n",
    "#import pip\n",
    "#pip.main(['install', '-q', 'pandas'])\n",
    "import pandas"
   ]
  },
  {
   "cell_type": "code",
   "execution_count": 3,
   "id": "1f159a60-6ced-499c-8a2f-afebe43e347e",
   "metadata": {},
   "outputs": [],
   "source": [
    "os.mkdir(\"out\")"
   ]
  },
  {
   "cell_type": "code",
   "execution_count": 4,
   "id": "777a9e95-9548-405e-b5bc-0e34959e975e",
   "metadata": {},
   "outputs": [],
   "source": [
    "st = datetime.strptime(startDateTime,'%Y-%m-%d %H:%M:%S')\n",
    "et = datetime.strptime(endDateTime, '%Y-%m-%d %H:%M:%S')\n",
    "et_padded = et + timedelta(hours=1)"
   ]
  },
  {
   "cell_type": "code",
   "execution_count": 5,
   "id": "fbcaa4e4-39c6-4bba-aecb-aa4453186bc6",
   "metadata": {},
   "outputs": [
    {
     "data": {
      "text/plain": [
       "datetime.datetime(2010, 1, 1, 0, 0)"
      ]
     },
     "execution_count": 5,
     "metadata": {},
     "output_type": "execute_result"
    }
   ],
   "source": [
    "st"
   ]
  },
  {
   "cell_type": "code",
   "execution_count": 6,
   "id": "653450b0-ceea-48f1-8bf8-51a4ca100915",
   "metadata": {},
   "outputs": [
    {
     "data": {
      "text/plain": [
       "datetime.datetime(2010, 1, 2, 1, 0)"
      ]
     },
     "execution_count": 6,
     "metadata": {},
     "output_type": "execute_result"
    }
   ],
   "source": [
    "et_padded"
   ]
  },
  {
   "cell_type": "code",
   "execution_count": 7,
   "id": "3b2ee421-1e78-4d0c-a09a-1c16cd9860e1",
   "metadata": {},
   "outputs": [],
   "source": [
    "bins = pandas.date_range(start=st, end=et, freq=f'{timestepsPerGroup}H').union([st, et_padded])"
   ]
  },
  {
   "cell_type": "code",
   "execution_count": 8,
   "id": "4fec27c7-1241-4c1d-afff-0202e9524a05",
   "metadata": {},
   "outputs": [
    {
     "data": {
      "text/plain": [
       "DatetimeIndex(['2010-01-01 00:00:00', '2010-01-01 10:00:00',\n",
       "               '2010-01-01 20:00:00', '2010-01-02 01:00:00'],\n",
       "              dtype='datetime64[ns]', freq=None)"
      ]
     },
     "execution_count": 8,
     "metadata": {},
     "output_type": "execute_result"
    }
   ],
   "source": [
    "bins"
   ]
  },
  {
   "cell_type": "code",
   "execution_count": 9,
   "id": "58517330-e250-43b5-ba70-75cb6dc54c66",
   "metadata": {},
   "outputs": [],
   "source": [
    "input_params = [] \n",
    "for i in range(0, len(bins)-1):\n",
    "    et_reduced = bins[i+1] - timedelta(hours=1)\n",
    "    input_params.append({'start': bins[i].isoformat(), 'end': et_reduced.isoformat()})\n"
   ]
  },
  {
   "cell_type": "code",
   "execution_count": 10,
   "id": "92efc9ba-11f2-489d-938f-e8e6d0d47eff",
   "metadata": {},
   "outputs": [
    {
     "data": {
      "text/plain": [
       "[{'start': '2010-01-01T00:00:00', 'end': '2010-01-01T09:00:00'},\n",
       " {'start': '2010-01-01T10:00:00', 'end': '2010-01-01T19:00:00'},\n",
       " {'start': '2010-01-01T20:00:00', 'end': '2010-01-02T00:00:00'}]"
      ]
     },
     "execution_count": 10,
     "metadata": {},
     "output_type": "execute_result"
    }
   ],
   "source": [
    "input_params"
   ]
  },
  {
   "cell_type": "code",
   "execution_count": 11,
   "id": "9243461c-f26d-49e6-b818-faeec4e21700",
   "metadata": {},
   "outputs": [
    {
     "name": "stdout",
     "output_type": "stream",
     "text": [
      "Part: 0\n",
      "Part: 1\n",
      "Part: 2\n"
     ]
    }
   ],
   "source": [
    "for i in range(0, len(bins) - 1):\n",
    "    print(f'Part: {i}')\n",
    "    with open(f\"out/{i}.json\", \"w\") as f:\n",
    "        input_params[i].update({\"foo\": i+1})\n",
    "        json.dump(input_params[i], f, indent=4, sort_keys=True)"
   ]
  },
  {
   "cell_type": "code",
   "execution_count": null,
   "id": "0a68464d-d9d1-4203-9288-b3efd84e0ab9",
   "metadata": {},
   "outputs": [],
   "source": []
  },
  {
   "cell_type": "code",
   "execution_count": null,
   "id": "0e96009b-16fd-42c2-bd40-ec6f97835350",
   "metadata": {},
   "outputs": [],
   "source": []
  }
 ],
 "metadata": {
  "kernelspec": {
   "display_name": "Python 3 (ipykernel)",
   "language": "python",
   "name": "python3"
  },
  "language_info": {
   "codemirror_mode": {
    "name": "ipython",
    "version": 3
   },
   "file_extension": ".py",
   "mimetype": "text/x-python",
   "name": "python",
   "nbconvert_exporter": "python",
   "pygments_lexer": "ipython3",
   "version": "3.11.4"
  }
 },
 "nbformat": 4,
 "nbformat_minor": 5
}
