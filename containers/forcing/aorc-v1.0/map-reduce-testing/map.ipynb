{
 "cells": [
  {
   "cell_type": "code",
   "execution_count": 1,
   "id": "dd3c506c-3979-494c-b25a-1b246ee74b3e",
   "metadata": {},
   "outputs": [],
   "source": [
    "import json\n",
    "\n",
    "import os\n",
    "\n",
    "import sys\n",
    "\n",
    "from datetime import datetime"
   ]
  },
  {
   "cell_type": "code",
   "execution_count": 2,
   "id": "f4ad714f-4301-4774-8dd9-ef1eb74d79fd",
   "metadata": {},
   "outputs": [],
   "source": [
    "# make sure that entry.py is in the path.\n",
    "\n",
    "sys.path.append('../')\n",
    "import entry"
   ]
  },
  {
   "cell_type": "code",
   "execution_count": 3,
   "id": "de18864e-4262-4ec0-9334-b9402a4e796f",
   "metadata": {},
   "outputs": [
    {
     "ename": "FileExistsError",
     "evalue": "[Errno 17] File exists: 'processed'",
     "output_type": "error",
     "traceback": [
      "\u001b[0;31m---------------------------------------------------------------------------\u001b[0m",
      "\u001b[0;31mFileExistsError\u001b[0m                           Traceback (most recent call last)",
      "Cell \u001b[0;32mIn[3], line 1\u001b[0m\n\u001b[0;32m----> 1\u001b[0m \u001b[43mos\u001b[49m\u001b[38;5;241;43m.\u001b[39;49m\u001b[43mmkdir\u001b[49m\u001b[43m(\u001b[49m\u001b[38;5;124;43m\"\u001b[39;49m\u001b[38;5;124;43mprocessed\u001b[39;49m\u001b[38;5;124;43m\"\u001b[39;49m\u001b[43m)\u001b[49m\n",
      "\u001b[0;31mFileExistsError\u001b[0m: [Errno 17] File exists: 'processed'"
     ]
    }
   ],
   "source": [
    "os.mkdir(\"processed\")"
   ]
  },
  {
   "cell_type": "code",
   "execution_count": null,
   "id": "460757a1-2764-4f21-b133-6f6190d6cd7c",
   "metadata": {},
   "outputs": [],
   "source": [
    "# load the input parameters from the split function\n",
    "partNum=0\n",
    "with open(f\"out/{partNum}.json\") as f:\n",
    "    part = json.load(f)"
   ]
  },
  {
   "cell_type": "code",
   "execution_count": null,
   "id": "387ccd1c-957e-48ea-bdef-5d3d7ac277fb",
   "metadata": {},
   "outputs": [],
   "source": [
    "st = datetime.fromisoformat(part['start']) \n",
    "\n",
    "et = datetime.fromisoformat(part['end'])"
   ]
  },
  {
   "cell_type": "code",
   "execution_count": null,
   "id": "46ee8e2e-7465-497d-a3a9-e98d5f3656de",
   "metadata": {},
   "outputs": [],
   "source": [
    "# run the aorc subsetting entry script\n",
    "\n",
    "entry.main(st,\n",
    "           et,\n",
    "           'watershed.shp',\n",
    "           './processed',\n",
    "           num_workers=1,\n",
    "           timesteps_per_group=10,\n",
    "           worker_mem_limit='2GB',\n",
    "           verbose=True)\n",
    "                \n",
    "           "
   ]
  },
  {
   "cell_type": "code",
   "execution_count": 16,
   "id": "5cd0a338-8ab1-460e-be27-f66a171628f8",
   "metadata": {
    "jupyter": {
     "source_hidden": true
    }
   },
   "outputs": [
    {
     "name": "stderr",
     "output_type": "stream",
     "text": [
      "/Users/castro/miniconda3/envs/aorc/lib/python3.11/subprocess.py:1016: RuntimeWarning: line buffering (buffering=1) isn't supported in binary mode, the default buffer size will be used\n",
      "  self.stdout = io.open(c2pread, 'rb', bufsize)\n",
      "/Users/castro/miniconda3/envs/aorc/lib/python3.11/subprocess.py:1021: RuntimeWarning: line buffering (buffering=1) isn't supported in binary mode, the default buffer size will be used\n",
      "  self.stderr = io.open(errread, 'rb', bufsize)\n"
     ]
    },
    {
     "data": {
      "text/plain": [
       "2"
      ]
     },
     "execution_count": 16,
     "metadata": {},
     "output_type": "execute_result"
    }
   ],
   "source": [
    "# run the aorc subsetting entry script\n",
    "\n",
    "from subprocess import Popen, PIPE\n",
    "\n",
    "process = Popen(['python',\n",
    "                 'entry.py',\n",
    "                 part['start'],\n",
    "                 part['end'],\n",
    "                 'watershed.shp',\n",
    "                 'processed',\n",
    "                 '--num-workers',\n",
    "                 '1',\n",
    "                 '--timesteps-per-group',\n",
    "                 '10',\n",
    "                 '--worker-mem-limit',\n",
    "                 '4',\n",
    "                 '--verbose'],\n",
    "                stdout=PIPE,\n",
    "                stderr=PIPE,\n",
    "                bufsize=1)\n",
    "\n",
    "for line in iter(process.stdout.readline, b''):\n",
    "  print(line)\n",
    "\n",
    "process.stdout.close()\n",
    "process.wait()"
   ]
  },
  {
   "cell_type": "code",
   "execution_count": 15,
   "id": "add9e1c3-7f82-474b-9ca4-a3ccf5447c19",
   "metadata": {},
   "outputs": [],
   "source": [
    "process.errors"
   ]
  },
  {
   "cell_type": "code",
   "execution_count": null,
   "id": "31cbb42d-4380-48f8-b0bd-a90f2e537999",
   "metadata": {},
   "outputs": [],
   "source": [
    "#entry.main(st, et, '/srv/shp-data/{{watershed-filename}}',\n",
    "#'/srv/output', num_workers=1, timesteps_per_group=10,\n",
    "#worker_mem_limit=4, verbose=True)\n",
    "\n",
    "with open(\"/mnt/out/part.json\", \"w\") as f:\n",
    "json.dump({\"bar\": part[\"foo\"] * 2}, f)"
   ]
  }
 ],
 "metadata": {
  "kernelspec": {
   "display_name": "Python 3 (ipykernel)",
   "language": "python",
   "name": "python3"
  },
  "language_info": {
   "codemirror_mode": {
    "name": "ipython",
    "version": 3
   },
   "file_extension": ".py",
   "mimetype": "text/x-python",
   "name": "python",
   "nbconvert_exporter": "python",
   "pygments_lexer": "ipython3",
   "version": "3.11.4"
  }
 },
 "nbformat": 4,
 "nbformat_minor": 5
}
